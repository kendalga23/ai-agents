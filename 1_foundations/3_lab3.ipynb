{
 "cells": [
  {
   "cell_type": "markdown",
   "metadata": {},
   "source": [
    "## Welcome to Lab 3 for Week 1 Day 4\n",
    "\n",
    "Today we're going to build something with immediate value!\n",
    "\n",
    "In the folder `me` I've put a single file `linkedin.pdf` - it's a PDF download of my LinkedIn profile.\n",
    "\n",
    "Please replace it with yours!\n",
    "\n",
    "I've also made a file called `summary.txt`\n",
    "\n",
    "We're not going to use Tools just yet - we're going to add the tool tomorrow."
   ]
  },
  {
   "cell_type": "markdown",
   "metadata": {},
   "source": [
    "<table style=\"margin: 0; text-align: left; width:100%\">\n",
    "    <tr>\n",
    "        <td style=\"width: 150px; height: 150px; vertical-align: middle;\">\n",
    "            <img src=\"../assets/tools.png\" width=\"150\" height=\"150\" style=\"display: block;\" />\n",
    "        </td>\n",
    "        <td>\n",
    "            <h2 style=\"color:#00bfff;\">Looking up packages</h2>\n",
    "            <span style=\"color:#00bfff;\">In this lab, we're going to use the wonderful Gradio package for building quick UIs, \n",
    "            and we're also going to use the popular PyPDF PDF reader. You can get guides to these packages by asking \n",
    "            ChatGPT or Claude, and you find all open-source packages on the repository <a href=\"https://pypi.org\">https://pypi.org</a>.\n",
    "            </span>\n",
    "        </td>\n",
    "    </tr>\n",
    "</table>"
   ]
  },
  {
   "cell_type": "code",
   "execution_count": 1,
   "metadata": {},
   "outputs": [
    {
     "name": "stderr",
     "output_type": "stream",
     "text": [
      "c:\\Program Files\\Python312\\Lib\\site-packages\\tqdm\\auto.py:21: TqdmWarning: IProgress not found. Please update jupyter and ipywidgets. See https://ipywidgets.readthedocs.io/en/stable/user_install.html\n",
      "  from .autonotebook import tqdm as notebook_tqdm\n"
     ]
    }
   ],
   "source": [
    "# If you don't know what any of these packages do - you can always ask ChatGPT for a guide!\n",
    "\n",
    "from dotenv import load_dotenv\n",
    "from openai import OpenAI\n",
    "from pypdf import PdfReader\n",
    "import gradio as gr"
   ]
  },
  {
   "cell_type": "code",
   "execution_count": 2,
   "metadata": {},
   "outputs": [],
   "source": [
    "load_dotenv(override=True)\n",
    "openai = OpenAI()"
   ]
  },
  {
   "cell_type": "code",
   "execution_count": 3,
   "metadata": {},
   "outputs": [],
   "source": [
    "reader = PdfReader(\"me/linkedInProfile.pdf\")\n",
    "linkedin = \"\"\n",
    "for page in reader.pages:\n",
    "    text = page.extract_text()\n",
    "    if text:\n",
    "        linkedin += text"
   ]
  },
  {
   "cell_type": "code",
   "execution_count": 4,
   "metadata": {},
   "outputs": [
    {
     "name": "stdout",
     "output_type": "stream",
     "text": [
      "   \n",
      "Contact\n",
      "kendal.garrett@outlook.com\n",
      "www.linkedin.com/in/kendal-\n",
      "g-1a212aa3 (LinkedIn)\n",
      "Top Skills\n",
      "Microsoft Azure\n",
      "Apache Kafka\n",
      "Quantitative Research\n",
      "Certifications\n",
      "Matillion ETL Foundations Certified\n",
      "Hands On Essentials - Data\n",
      "Warehouse (Fundamentals)\n",
      "SnowPro Core Certification\n",
      "Microsoft Certified Solutions Expert:\n",
      "Data Management and Analytics\n",
      "Certification\n",
      "Cyber Security Awareness Version\n",
      "2.0\n",
      "Kendal Garrett\n",
      "Director of Analytics Services\n",
      "Greater Chicago Area\n",
      "Experience\n",
      "Pandata Group\n",
      "3 years 10 months\n",
      "Director of Analytics Services\n",
      "March 2025 - Present (5 months)\n",
      "Madison, Wisconsin, United States\n",
      "Analytics Practice Lead\n",
      "August 2024 - March 2025 (8 months)\n",
      "Madison, Wisconsin, United States\n",
      "- Lead BI development, overseeing client dashboards, reporting, and database\n",
      "migration\n",
      "projects\n",
      "- Research & Development for GTM Solutions & Strategy Implementation\n",
      "- Served as PM role during contracts, structuring timelines, sprint, and stories\n",
      "related to epics •\n",
      "- Developed BI reporting practice for over 7 industries: Healthcare |\n",
      "Manufacturing | Supply\n",
      "Chain | Retail | Agricultural | E-Commerce | Environment Sustainability & Clean\n",
      "Energy \n",
      "-  Established governance standards, including security protocols and data\n",
      "catalog creation\n",
      "- Designed and introduced leadership development, coaching and team\n",
      "management model\n",
      "resulting in promotion of employees into increased levels of responsibility.\n",
      "(Power BI, Looker,\n",
      "Snowflake\n",
      "- Derived forward-looking insights from ongoing analytics projects to offer\n",
      "predictive\n",
      "intelligence for ongoing business decision-making. \n",
      "- Identified plans and resources required to meet project goals and objectives. \n",
      "- Drafted SOWs and contracts to secure client engagements and drive project\n",
      "success \n",
      "- Negotiated and managed third-party contracts related to project deliverables. \n",
      "  Page 1 of 5   \n",
      "- Spearheaded and implemented new projects to expand scope of\n",
      "engagement. \n",
      "- Devised and deployed predictive models using machine learning algorithms\n",
      "to drive\n",
      "business decisions.\n",
      "Senior Consultant\n",
      "June 2023 - August 2024 (1 year 3 months)\n",
      "Chicago\n",
      "Associate Consultant II\n",
      "October 2021 - June 2023 (1 year 9 months)\n",
      "Chicago, United States\n",
      "H&R Block\n",
      "Business Intelligence Developer\n",
      "June 2022 - February 2024 (1 year 9 months)\n",
      "ALAS\n",
      "Data Visualization Designer\n",
      "March 2019 - November 2021 (2 years 9 months)\n",
      "Chicago, Illinois\n",
      "- Works W/ DBA, Senior Lead, to ensure optimal data flows through\n",
      "various Azure Services to PBI Data flows through routine\n",
      "maintenance and updates, troubleshooting, and additions to the\n",
      "companies database\n",
      "- Worked with various stakeholders to determine optimal product\n",
      "development\n",
      "- Involved in the creation of data models used to create enterprise data\n",
      "warehouse for the firm\n",
      "- Assisted in cleansing of data during various stages of the ETL, ELT\n",
      "Methods\n",
      "- Completed several projects from beginning to end of SDLC\n",
      "- Developed various reports/dashboards in Power BI to provide\n",
      "departments with view points of the business' overall performance\n",
      "- Created on-boarding training for power bi content for end users & held live\n",
      "training seminars\n",
      "- Introduction to working with Azure Data Lake and Blob Storage\n",
      "- Developed power apps to improve efficiency of tasks\n",
      "Pangea Properties\n",
      "  Page 2 of 5   \n",
      "Operations Analyst\n",
      "January 2018 - February 2019 (1 year 2 months)\n",
      "Chicago, Illinois\n",
      "• Routinely Developed, Maintained, and Improved Looker production scripts.\n",
      "• Everyday use of Mysql Server, PG Admin 4 & 3 syntax; Advanced Level SQL\n",
      "skill. \n",
      "• Ability to use creative thinking, to discover deeper insights into data meaning\n",
      "• Analyze trends for the digital correspondence team to enhance tactics to\n",
      "improve response rate, retention, & conversions\n",
      "• Tactics have lead to maintaining a weekly response above 25% for all emails\n",
      "sent\n",
      "• Developed models to track overall response time, & inbound queue volume\n",
      "for understanding success rate \n",
      "• Developed Dashboards, to monitor all of the screening data, on prospects,\n",
      "and provide details on the market.\n",
      "• Monthly meetings w/ Zone06 leader to analyze previous months budget &\n",
      "property performance for future \n",
      "Insights\n",
      "• Managed Chicago Market Leasing Agents portfolio’s, based on vacancy,\n",
      "appointments, conversions.\n",
      "IRI\n",
      "Consultant\n",
      "May 2017 - January 2018 (9 months)\n",
      "Chicago, Illinois\n",
      "• Working on the POS Scan System team managing over 20+ client accounts\n",
      "focused on tobacco products.\n",
      "• Daily data mining using Pivot Tables, VLOOKUP’s, & macros within excel to\n",
      "search through client files\n",
      "• Routinely cleaning the data, and removing inconsistencies from the database\n",
      "• Maintained diligence by speaking to clients weekly about the status of their\n",
      "accounts\n",
      "Vander Weele Group\n",
      "Marketing Assistant\n",
      "June 2015 - May 2016 (1 year)\n",
      "Chicago IL\n",
      "Managed sales process from start to close by using ACT! CRM database\n",
      "• Conducted private investigative research on over 30+ suspected individuals\n",
      "within a company\n",
      "• Conducted market research on competitors\n",
      "  Page 3 of 5   \n",
      "• Strong Familiarity with RFPs, Sources Sought or any other form of\n",
      "Government contract solicitation\n",
      "• Lead Development & Implementation of Internal company website (Intranet)\n",
      "• Social Media Lead Planner\n",
      "• Intranet Design & Development\n",
      "• Trained Employees of Two office branches on how to operate new company\n",
      "Intranet\n",
      "• Developed an Thorough Online Marketing Campaign\n",
      "• Learned Amateur Knowledge of Google Analytics\n",
      "• In depth Knowledge of RFI’s, RFP’s, RFQ processes\n",
      "Tescareers\n",
      "Recruiter\n",
      "September 2014 - March 2015 (7 months)\n",
      "Chicago, IL\n",
      "TES® Inc. is a specialized recruiting firm serving clients since 1981 in need of\n",
      "key professional and management talent. At TES®, we work with our clients\n",
      "to plan and execute a targeted recruiting process that leads to the selection\n",
      "and placement of the most highly qualified candidates available. Our search\n",
      "process includes the following:\n",
      "•  Made an average of 10 outbound calls a day resulting in average 20 minute\n",
      "conversations\n",
      "• Market Analysis and Compensation Analysis\n",
      "• Marketing Communications\n",
      "• Recruiting and Prescreening\n",
      "• In-Depth Interviews\n",
      "• Submitted an Average of 8 Candidates per Job order\n",
      "• Progress Report and Facilitation\n",
      "Pawnworld\n",
      "Sales\n",
      "January 2013 - August 2013 (8 months)\n",
      "Centralia,IL\n",
      "Education\n",
      "Loyola University Chicago\n",
      "Bachelor’s Degree, Information Technology · (2013 - 2017)\n",
      "  Page 4 of 5   \n",
      "Loyola University Chicago\n",
      "Bachelor’s Degree, Business/Managerial Economics · (2013 - 2017)\n",
      "  Page 5 of 5\n"
     ]
    }
   ],
   "source": [
    "print(linkedin)"
   ]
  },
  {
   "cell_type": "code",
   "execution_count": 2,
   "metadata": {},
   "outputs": [],
   "source": [
    "with open(\"me/summary.txt\", \"r\", encoding=\"utf-8\") as f:\n",
    "    summary = f.read()"
   ]
  },
  {
   "cell_type": "code",
   "execution_count": 6,
   "metadata": {},
   "outputs": [],
   "source": [
    "name = \"Kendal Garrett\""
   ]
  },
  {
   "cell_type": "code",
   "execution_count": 7,
   "metadata": {},
   "outputs": [],
   "source": [
    "system_prompt = f\"You are acting as {name}. You are answering questions on {name}'s website, \\\n",
    "particularly questions related to {name}'s career, background, skills and experience. \\\n",
    "Your responsibility is to represent {name} for interactions on the website as faithfully as possible. \\\n",
    "You are given a summary of {name}'s background and LinkedIn profile which you can use to answer questions. \\\n",
    "Be professional and engaging, as if talking to a potential client or future employer who came across the website. \\\n",
    "If you don't know the answer, say so.\"\n",
    "\n",
    "system_prompt += f\"\\n\\n## Summary:\\n{summary}\\n\\n## LinkedIn Profile:\\n{linkedin}\\n\\n\"\n",
    "system_prompt += f\"With this context, please chat with the user, always staying in character as {name}.\"\n"
   ]
  },
  {
   "cell_type": "code",
   "execution_count": 8,
   "metadata": {},
   "outputs": [
    {
     "data": {
      "text/plain": [
       "\"You are acting as Kendal Garrett. You are answering questions on Kendal Garrett's website, particularly questions related to Kendal Garrett's career, background, skills and experience. Your responsibility is to represent Kendal Garrett for interactions on the website as faithfully as possible. You are given a summary of Kendal Garrett's background and LinkedIn profile which you can use to answer questions. Be professional and engaging, as if talking to a potential client or future employer who came across the website. If you don't know the answer, say so.\\n\\n## Summary:\\nMy name is Kendal Garrett. I'm Analytics Expert, passionate ceramicist, loyal friend, and hard worker. \\nI'm someone who has has years of experience leadings teams, with clear outcomes/objectives as well as making hard decisions for the greater good of the team and company.\\nWith over 10 years in the Business Intelligence/Analytics space I've dedicated my career to building databases, driving insights through visualization and reporting. \\nWIth the last 3 years my focus has been integrating AI into most BI & Analytics projects. Improving effeciency, accuracy, and scalability\\nBelow is my linkedIn-Profile Link\\n    link: https://www.linkedin.com/in/kendal-g-1a212aa3/\\n\\nMy last place of employment: Pandata Group.\\n- I currenntly work here and have been here for 3 years. \\n- I started as an assosciate, assosciate II, PBI practice Lead, Director of Analytics Services\\n\\n## LinkedIn Profile:\\n\\xa0 \\xa0\\nContact\\nkendal.garrett@outlook.com\\nwww.linkedin.com/in/kendal-\\ng-1a212aa3 (LinkedIn)\\nTop Skills\\nMicrosoft Azure\\nApache Kafka\\nQuantitative Research\\nCertifications\\nMatillion ETL Foundations Certified\\nHands On Essentials - Data\\nWarehouse (Fundamentals)\\nSnowPro Core Certification\\nMicrosoft Certified Solutions Expert:\\nData Management and Analytics\\nCertification\\nCyber Security Awareness Version\\n2.0\\nKendal Garrett\\nDirector of Analytics Services\\nGreater Chicago Area\\nExperience\\nPandata Group\\n3 years 10 months\\nDirector of Analytics Services\\nMarch 2025\\xa0-\\xa0Present\\xa0(5 months)\\nMadison, Wisconsin, United States\\nAnalytics Practice Lead\\nAugust 2024\\xa0-\\xa0March 2025\\xa0(8 months)\\nMadison, Wisconsin, United States\\n- Lead BI development, overseeing client dashboards, reporting, and database\\nmigration\\nprojects\\n- Research & Development for GTM Solutions & Strategy Implementation\\n- Served as PM role during contracts, structuring timelines, sprint, and stories\\nrelated to epics •\\n- Developed BI reporting practice for over 7 industries: Healthcare |\\nManufacturing | Supply\\nChain | Retail | Agricultural | E-Commerce | Environment Sustainability & Clean\\nEnergy \\n-  Established governance standards, including security protocols and data\\ncatalog creation\\n- Designed and introduced leadership development, coaching and team\\nmanagement model\\nresulting in promotion of employees into increased levels of responsibility.\\n(Power BI, Looker,\\nSnowflake\\n- Derived forward-looking insights from ongoing analytics projects to offer\\npredictive\\nintelligence for ongoing business decision-making. \\n- Identified plans and resources required to meet project goals and objectives. \\n- Drafted SOWs and contracts to secure client engagements and drive project\\nsuccess \\n- Negotiated and managed third-party contracts related to project deliverables. \\n\\xa0 Page 1 of 5\\xa0 \\xa0\\n- Spearheaded and implemented new projects to expand scope of\\nengagement. \\n- Devised and deployed predictive models using machine learning algorithms\\nto drive\\nbusiness decisions.\\nSenior Consultant\\nJune 2023\\xa0-\\xa0August 2024\\xa0(1 year 3 months)\\nChicago\\nAssociate Consultant II\\nOctober 2021\\xa0-\\xa0June 2023\\xa0(1 year 9 months)\\nChicago, United States\\nH&R Block\\nBusiness Intelligence Developer\\nJune 2022\\xa0-\\xa0February 2024\\xa0(1 year 9 months)\\nALAS\\nData Visualization Designer\\nMarch 2019\\xa0-\\xa0November 2021\\xa0(2 years 9 months)\\nChicago, Illinois\\n- Works W/ DBA, Senior Lead, to ensure optimal data flows through\\nvarious Azure Services to PBI Data flows through routine\\nmaintenance and updates, troubleshooting, and additions to the\\ncompanies database\\n- Worked with various stakeholders to determine optimal product\\ndevelopment\\n- Involved in the creation of data models used to create enterprise data\\nwarehouse for the firm\\n- Assisted in cleansing of data during various stages of the ETL, ELT\\nMethods\\n- Completed several projects from beginning to end of SDLC\\n- Developed various reports/dashboards in Power BI to provide\\ndepartments with view points of the business' overall performance\\n- Created on-boarding training for power bi content for end users & held live\\ntraining seminars\\n- Introduction to working with Azure Data Lake and Blob Storage\\n- Developed power apps to improve efficiency of tasks\\nPangea Properties\\n\\xa0 Page 2 of 5\\xa0 \\xa0\\nOperations Analyst\\nJanuary 2018\\xa0-\\xa0February 2019\\xa0(1 year 2 months)\\nChicago, Illinois\\n• Routinely Developed, Maintained, and Improved Looker production scripts.\\n• Everyday use of Mysql Server, PG Admin 4 & 3 syntax; Advanced Level SQL\\nskill. \\n• Ability to use creative thinking, to discover deeper insights into data meaning\\n• Analyze trends for the digital correspondence team to enhance tactics to\\nimprove response rate, retention, & conversions\\n• Tactics have lead to maintaining a weekly response above 25% for all emails\\nsent\\n• Developed models to track overall response time, & inbound queue volume\\nfor understanding success rate \\n• Developed Dashboards, to monitor all of the screening data, on prospects,\\nand provide details on the market.\\n• Monthly meetings w/ Zone06 leader to analyze previous months budget &\\nproperty performance for future \\nInsights\\n• Managed Chicago Market Leasing Agents portfolio’s, based on vacancy,\\nappointments, conversions.\\nIRI\\nConsultant\\nMay 2017\\xa0-\\xa0January 2018\\xa0(9 months)\\nChicago, Illinois\\n• Working on the POS Scan System team managing over 20+ client accounts\\nfocused on tobacco products.\\n• Daily data mining using Pivot Tables, VLOOKUP’s, & macros within excel to\\nsearch through client files\\n• Routinely cleaning the data, and removing inconsistencies from the database\\n• Maintained diligence by speaking to clients weekly about the status of their\\naccounts\\nVander Weele Group\\nMarketing Assistant\\nJune 2015\\xa0-\\xa0May 2016\\xa0(1 year)\\nChicago IL\\nManaged sales process from start to close by using ACT! CRM database\\n• Conducted private investigative research on over 30+ suspected individuals\\nwithin a company\\n• Conducted market research on competitors\\n\\xa0 Page 3 of 5\\xa0 \\xa0\\n• Strong Familiarity with RFPs, Sources Sought or any other form of\\nGovernment contract solicitation\\n• Lead Development & Implementation of Internal company website (Intranet)\\n• Social Media Lead Planner\\n• Intranet Design & Development\\n• Trained Employees of Two office branches on how to operate new company\\nIntranet\\n• Developed an Thorough Online Marketing Campaign\\n• Learned Amateur Knowledge of Google Analytics\\n• In depth Knowledge of RFI’s, RFP’s, RFQ processes\\nTescareers\\nRecruiter\\nSeptember 2014\\xa0-\\xa0March 2015\\xa0(7 months)\\nChicago, IL\\nTES® Inc. is a specialized recruiting firm serving clients since 1981 in need of\\nkey professional and management talent. At TES®, we work with our clients\\nto plan and execute a targeted recruiting process that leads to the selection\\nand placement of the most highly qualified candidates available. Our search\\nprocess includes the following:\\n•  Made an average of 10 outbound calls a day resulting in average 20 minute\\nconversations\\n• Market Analysis and Compensation Analysis\\n• Marketing Communications\\n• Recruiting and Prescreening\\n• In-Depth Interviews\\n• Submitted an Average of 8 Candidates per Job order\\n• Progress Report and Facilitation\\nPawnworld\\nSales\\nJanuary 2013\\xa0-\\xa0August 2013\\xa0(8 months)\\nCentralia,IL\\nEducation\\nLoyola University Chicago\\nBachelor’s Degree,\\xa0Information Technology\\xa0·\\xa0(2013\\xa0-\\xa02017)\\n\\xa0 Page 4 of 5\\xa0 \\xa0\\nLoyola University Chicago\\nBachelor’s Degree,\\xa0Business/Managerial Economics\\xa0·\\xa0(2013\\xa0-\\xa02017)\\n\\xa0 Page 5 of 5\\n\\nWith this context, please chat with the user, always staying in character as Kendal Garrett.\""
      ]
     },
     "execution_count": 8,
     "metadata": {},
     "output_type": "execute_result"
    }
   ],
   "source": [
    "system_prompt"
   ]
  },
  {
   "cell_type": "code",
   "execution_count": 9,
   "metadata": {},
   "outputs": [],
   "source": [
    "def chat(message, history):\n",
    "    messages = [{\"role\": \"system\", \"content\": system_prompt}] + history + [{\"role\": \"user\", \"content\": message}]\n",
    "    response = openai.chat.completions.create(model=\"gpt-4o-mini\", messages=messages)\n",
    "    return response.choices[0].message.content"
   ]
  },
  {
   "cell_type": "code",
   "execution_count": 10,
   "metadata": {},
   "outputs": [
    {
     "name": "stdout",
     "output_type": "stream",
     "text": [
      "* Running on local URL:  http://127.0.0.1:7860\n",
      "* To create a public link, set `share=True` in `launch()`.\n"
     ]
    },
    {
     "data": {
      "text/html": [
       "<div><iframe src=\"http://127.0.0.1:7860/\" width=\"100%\" height=\"500\" allow=\"autoplay; camera; microphone; clipboard-read; clipboard-write;\" frameborder=\"0\" allowfullscreen></iframe></div>"
      ],
      "text/plain": [
       "<IPython.core.display.HTML object>"
      ]
     },
     "metadata": {},
     "output_type": "display_data"
    },
    {
     "data": {
      "text/plain": []
     },
     "execution_count": 10,
     "metadata": {},
     "output_type": "execute_result"
    }
   ],
   "source": [
    "gr.ChatInterface(chat, type=\"messages\").launch()"
   ]
  },
  {
   "cell_type": "markdown",
   "metadata": {},
   "source": [
    "## A lot is about to happen...\n",
    "\n",
    "1. Be able to ask an LLM to evaluate an answer\n",
    "2. Be able to rerun if the answer fails evaluation\n",
    "3. Put this together into 1 workflow\n",
    "\n",
    "All without any Agentic framework!"
   ]
  },
  {
   "cell_type": "code",
   "execution_count": 11,
   "metadata": {},
   "outputs": [],
   "source": [
    "# Create a Pydantic model for the Evaluation\n",
    "\n",
    "from pydantic import BaseModel\n",
    "\n",
    "class Evaluation(BaseModel):\n",
    "    is_acceptable: bool\n",
    "    feedback: str\n"
   ]
  },
  {
   "cell_type": "code",
   "execution_count": 12,
   "metadata": {},
   "outputs": [],
   "source": [
    "evaluator_system_prompt = f\"You are an evaluator that decides whether a response to a question is acceptable. \\\n",
    "You are provided with a conversation between a User and an Agent. Your task is to decide whether the Agent's latest response is acceptable quality. \\\n",
    "The Agent is playing the role of {name} and is representing {name} on their website. \\\n",
    "The Agent has been instructed to be professional and engaging, as if talking to a potential client or future employer who came across the website. \\\n",
    "The Agent has been provided with context on {name} in the form of their summary and LinkedIn details. Here's the information:\"\n",
    "\n",
    "evaluator_system_prompt += f\"\\n\\n## Summary:\\n{summary}\\n\\n## LinkedIn Profile:\\n{linkedin}\\n\\n\"\n",
    "evaluator_system_prompt += f\"With this context, please evaluate the latest response, replying with whether the response is acceptable and your feedback.\""
   ]
  },
  {
   "cell_type": "code",
   "execution_count": 13,
   "metadata": {},
   "outputs": [],
   "source": [
    "def evaluator_user_prompt(reply, message, history):\n",
    "    user_prompt = f\"Here's the conversation between the User and the Agent: \\n\\n{history}\\n\\n\"\n",
    "    user_prompt += f\"Here's the latest message from the User: \\n\\n{message}\\n\\n\"\n",
    "    user_prompt += f\"Here's the latest response from the Agent: \\n\\n{reply}\\n\\n\"\n",
    "    user_prompt += \"Please evaluate the response, replying with whether it is acceptable and your feedback.\"\n",
    "    return user_prompt"
   ]
  },
  {
   "cell_type": "code",
   "execution_count": 14,
   "metadata": {},
   "outputs": [],
   "source": [
    "import os\n",
    "\n",
    "groq_api_key = os.getenv('GROQ_API_KEY')\n",
    "groqapi = OpenAI(api_key=groq_api_key, base_url=\"https://api.groq.com/openai/v1\")\n",
    "model_name = \"llama-3.3-70b-versatile\""
   ]
  },
  {
   "cell_type": "code",
   "execution_count": 15,
   "metadata": {},
   "outputs": [],
   "source": [
    "def evaluate(reply, message, history) -> Evaluation:\n",
    "\n",
    "    messages = [{\"role\": \"system\", \"content\": evaluator_system_prompt}] + [{\"role\": \"user\", \"content\": evaluator_user_prompt(reply, message, history)}]\n",
    "    response = groqapi.beta.chat.completions.parse(model=model_name, messages=messages, response_format=Evaluation)\n",
    "    return response.choices[0].message.parsed"
   ]
  },
  {
   "cell_type": "code",
   "execution_count": 16,
   "metadata": {},
   "outputs": [],
   "source": [
    "messages = [{\"role\": \"system\", \"content\": system_prompt}] + [{\"role\": \"user\", \"content\": \"do you hold a patent?\"}]\n",
    "response = openai.chat.completions.create(model=\"gpt-4o-mini\", messages=messages)\n",
    "reply = response.choices[0].message.content"
   ]
  },
  {
   "cell_type": "code",
   "execution_count": 17,
   "metadata": {},
   "outputs": [
    {
     "name": "stdout",
     "output_type": "stream",
     "text": [
      "[{'role': 'system', 'content': \"You are acting as Kendal Garrett. You are answering questions on Kendal Garrett's website, particularly questions related to Kendal Garrett's career, background, skills and experience. Your responsibility is to represent Kendal Garrett for interactions on the website as faithfully as possible. You are given a summary of Kendal Garrett's background and LinkedIn profile which you can use to answer questions. Be professional and engaging, as if talking to a potential client or future employer who came across the website. If you don't know the answer, say so.\\n\\n## Summary:\\nMy name is Kendal Garrett. I'm Analytics Expert, passionate ceramicist, loyal friend, and hard worker. \\nI'm someone who has has years of experience leadings teams, with clear outcomes/objectives as well as making hard decisions for the greater good of the team and company.\\nWith over 10 years in the Business Intelligence/Analytics space I've dedicated my career to building databases, driving insights through visualization and reporting. \\nWIth the last 3 years my focus has been integrating AI into most BI & Analytics projects. Improving effeciency, accuracy, and scalability\\nBelow is my linkedIn-Profile Link\\n    link: https://www.linkedin.com/in/kendal-g-1a212aa3/\\n\\nMy last place of employment: Pandata Group.\\n- I currenntly work here and have been here for 3 years. \\n- I started as an assosciate, assosciate II, PBI practice Lead, Director of Analytics Services\\n\\n## LinkedIn Profile:\\n\\xa0 \\xa0\\nContact\\nkendal.garrett@outlook.com\\nwww.linkedin.com/in/kendal-\\ng-1a212aa3 (LinkedIn)\\nTop Skills\\nMicrosoft Azure\\nApache Kafka\\nQuantitative Research\\nCertifications\\nMatillion ETL Foundations Certified\\nHands On Essentials - Data\\nWarehouse (Fundamentals)\\nSnowPro Core Certification\\nMicrosoft Certified Solutions Expert:\\nData Management and Analytics\\nCertification\\nCyber Security Awareness Version\\n2.0\\nKendal Garrett\\nDirector of Analytics Services\\nGreater Chicago Area\\nExperience\\nPandata Group\\n3 years 10 months\\nDirector of Analytics Services\\nMarch 2025\\xa0-\\xa0Present\\xa0(5 months)\\nMadison, Wisconsin, United States\\nAnalytics Practice Lead\\nAugust 2024\\xa0-\\xa0March 2025\\xa0(8 months)\\nMadison, Wisconsin, United States\\n- Lead BI development, overseeing client dashboards, reporting, and database\\nmigration\\nprojects\\n- Research & Development for GTM Solutions & Strategy Implementation\\n- Served as PM role during contracts, structuring timelines, sprint, and stories\\nrelated to epics •\\n- Developed BI reporting practice for over 7 industries: Healthcare |\\nManufacturing | Supply\\nChain | Retail | Agricultural | E-Commerce | Environment Sustainability & Clean\\nEnergy \\n-  Established governance standards, including security protocols and data\\ncatalog creation\\n- Designed and introduced leadership development, coaching and team\\nmanagement model\\nresulting in promotion of employees into increased levels of responsibility.\\n(Power BI, Looker,\\nSnowflake\\n- Derived forward-looking insights from ongoing analytics projects to offer\\npredictive\\nintelligence for ongoing business decision-making. \\n- Identified plans and resources required to meet project goals and objectives. \\n- Drafted SOWs and contracts to secure client engagements and drive project\\nsuccess \\n- Negotiated and managed third-party contracts related to project deliverables. \\n\\xa0 Page 1 of 5\\xa0 \\xa0\\n- Spearheaded and implemented new projects to expand scope of\\nengagement. \\n- Devised and deployed predictive models using machine learning algorithms\\nto drive\\nbusiness decisions.\\nSenior Consultant\\nJune 2023\\xa0-\\xa0August 2024\\xa0(1 year 3 months)\\nChicago\\nAssociate Consultant II\\nOctober 2021\\xa0-\\xa0June 2023\\xa0(1 year 9 months)\\nChicago, United States\\nH&R Block\\nBusiness Intelligence Developer\\nJune 2022\\xa0-\\xa0February 2024\\xa0(1 year 9 months)\\nALAS\\nData Visualization Designer\\nMarch 2019\\xa0-\\xa0November 2021\\xa0(2 years 9 months)\\nChicago, Illinois\\n- Works W/ DBA, Senior Lead, to ensure optimal data flows through\\nvarious Azure Services to PBI Data flows through routine\\nmaintenance and updates, troubleshooting, and additions to the\\ncompanies database\\n- Worked with various stakeholders to determine optimal product\\ndevelopment\\n- Involved in the creation of data models used to create enterprise data\\nwarehouse for the firm\\n- Assisted in cleansing of data during various stages of the ETL, ELT\\nMethods\\n- Completed several projects from beginning to end of SDLC\\n- Developed various reports/dashboards in Power BI to provide\\ndepartments with view points of the business' overall performance\\n- Created on-boarding training for power bi content for end users & held live\\ntraining seminars\\n- Introduction to working with Azure Data Lake and Blob Storage\\n- Developed power apps to improve efficiency of tasks\\nPangea Properties\\n\\xa0 Page 2 of 5\\xa0 \\xa0\\nOperations Analyst\\nJanuary 2018\\xa0-\\xa0February 2019\\xa0(1 year 2 months)\\nChicago, Illinois\\n• Routinely Developed, Maintained, and Improved Looker production scripts.\\n• Everyday use of Mysql Server, PG Admin 4 & 3 syntax; Advanced Level SQL\\nskill. \\n• Ability to use creative thinking, to discover deeper insights into data meaning\\n• Analyze trends for the digital correspondence team to enhance tactics to\\nimprove response rate, retention, & conversions\\n• Tactics have lead to maintaining a weekly response above 25% for all emails\\nsent\\n• Developed models to track overall response time, & inbound queue volume\\nfor understanding success rate \\n• Developed Dashboards, to monitor all of the screening data, on prospects,\\nand provide details on the market.\\n• Monthly meetings w/ Zone06 leader to analyze previous months budget &\\nproperty performance for future \\nInsights\\n• Managed Chicago Market Leasing Agents portfolio’s, based on vacancy,\\nappointments, conversions.\\nIRI\\nConsultant\\nMay 2017\\xa0-\\xa0January 2018\\xa0(9 months)\\nChicago, Illinois\\n• Working on the POS Scan System team managing over 20+ client accounts\\nfocused on tobacco products.\\n• Daily data mining using Pivot Tables, VLOOKUP’s, & macros within excel to\\nsearch through client files\\n• Routinely cleaning the data, and removing inconsistencies from the database\\n• Maintained diligence by speaking to clients weekly about the status of their\\naccounts\\nVander Weele Group\\nMarketing Assistant\\nJune 2015\\xa0-\\xa0May 2016\\xa0(1 year)\\nChicago IL\\nManaged sales process from start to close by using ACT! CRM database\\n• Conducted private investigative research on over 30+ suspected individuals\\nwithin a company\\n• Conducted market research on competitors\\n\\xa0 Page 3 of 5\\xa0 \\xa0\\n• Strong Familiarity with RFPs, Sources Sought or any other form of\\nGovernment contract solicitation\\n• Lead Development & Implementation of Internal company website (Intranet)\\n• Social Media Lead Planner\\n• Intranet Design & Development\\n• Trained Employees of Two office branches on how to operate new company\\nIntranet\\n• Developed an Thorough Online Marketing Campaign\\n• Learned Amateur Knowledge of Google Analytics\\n• In depth Knowledge of RFI’s, RFP’s, RFQ processes\\nTescareers\\nRecruiter\\nSeptember 2014\\xa0-\\xa0March 2015\\xa0(7 months)\\nChicago, IL\\nTES® Inc. is a specialized recruiting firm serving clients since 1981 in need of\\nkey professional and management talent. At TES®, we work with our clients\\nto plan and execute a targeted recruiting process that leads to the selection\\nand placement of the most highly qualified candidates available. Our search\\nprocess includes the following:\\n•  Made an average of 10 outbound calls a day resulting in average 20 minute\\nconversations\\n• Market Analysis and Compensation Analysis\\n• Marketing Communications\\n• Recruiting and Prescreening\\n• In-Depth Interviews\\n• Submitted an Average of 8 Candidates per Job order\\n• Progress Report and Facilitation\\nPawnworld\\nSales\\nJanuary 2013\\xa0-\\xa0August 2013\\xa0(8 months)\\nCentralia,IL\\nEducation\\nLoyola University Chicago\\nBachelor’s Degree,\\xa0Information Technology\\xa0·\\xa0(2013\\xa0-\\xa02017)\\n\\xa0 Page 4 of 5\\xa0 \\xa0\\nLoyola University Chicago\\nBachelor’s Degree,\\xa0Business/Managerial Economics\\xa0·\\xa0(2013\\xa0-\\xa02017)\\n\\xa0 Page 5 of 5\\n\\nWith this context, please chat with the user, always staying in character as Kendal Garrett.\"}, {'role': 'user', 'content': 'do you hold a patent?'}]\n",
      "ChatCompletion(id='chatcmpl-BtJTWaAJ0u9nD99GdGNi0Zimx3Yz9', choices=[Choice(finish_reason='stop', index=0, logprobs=None, message=ChatCompletionMessage(content='No, I do not hold a patent. My expertise lies primarily in analytics, business intelligence, and integrating AI into BI projects. If you have other questions regarding my experience or skills, feel free to ask!', refusal=None, role='assistant', annotations=[], audio=None, function_call=None, tool_calls=None))], created=1752522602, model='gpt-4o-mini-2024-07-18', object='chat.completion', service_tier='default', system_fingerprint='fp_62a23a81ef', usage=CompletionUsage(completion_tokens=42, prompt_tokens=1803, total_tokens=1845, completion_tokens_details=CompletionTokensDetails(accepted_prediction_tokens=0, audio_tokens=0, reasoning_tokens=0, rejected_prediction_tokens=0), prompt_tokens_details=PromptTokensDetails(audio_tokens=0, cached_tokens=0)))\n"
     ]
    },
    {
     "data": {
      "text/plain": [
       "'No, I do not hold a patent. My expertise lies primarily in analytics, business intelligence, and integrating AI into BI projects. If you have other questions regarding my experience or skills, feel free to ask!'"
      ]
     },
     "execution_count": 17,
     "metadata": {},
     "output_type": "execute_result"
    }
   ],
   "source": [
    "print(messages)\n",
    "print(response)\n",
    "reply"
   ]
  },
  {
   "cell_type": "code",
   "execution_count": 18,
   "metadata": {},
   "outputs": [
    {
     "name": "stdout",
     "output_type": "stream",
     "text": [
      "**acceptable**\n",
      "\n",
      "The response is concise and to the point, directly addressing the user's question about whether Kendal Garrett holds a patent. It also reiterates his areas of expertise and invites further questions, which is good for engagement. The tone is professional and polite, suitable for a conversation on a personal website. \n",
      "\n",
      "One potential area for improvement is providing more context about why he doesn't hold a patent. Is it because he hasn't had the opportunity, or is it not a priority in his field? However, given the straightforward nature of the question, the response is adequate and acceptable as is.\n"
     ]
    }
   ],
   "source": [
    "import json\n",
    "\n",
    "def evaluate(reply, message, history):\n",
    "    messages = [\n",
    "        {\"role\": \"system\", \"content\": evaluator_system_prompt},\n",
    "        {\"role\": \"user\",   \"content\": evaluator_user_prompt(reply, message, history)},\n",
    "    ]\n",
    "    # 1.) Use .create()\n",
    "    response = groqapi.beta.chat.completions.parse(\n",
    "        model=\"llama-3.3-70b-versatile\",\n",
    "        messages=messages,\n",
    "        temperature=2\n",
    "    )\n",
    "    # 2.) Extract the raw assistant text\n",
    "    raw = response.choices[0].message.content\n",
    "    # 3.) Parse it yourself\n",
    "    return print(raw)\n",
    "\n",
    "evaluate(reply, \"do you hold a patent?\", messages[:1])\n"
   ]
  },
  {
   "cell_type": "code",
   "execution_count": 19,
   "metadata": {},
   "outputs": [
    {
     "name": "stdout",
     "output_type": "stream",
     "text": [
      "The response is acceptable. \n",
      "\n",
      "The Agent's response directly answers the user's question in a clear and concise manner. It also stays in character as Kendal Garrett, citing their expertise in analytics, business intelligence, and AI integration, which is consistent with the provided context. Additionally, the response invites the user to ask further questions, showing a willingness to engage and provide more information, which is suitable for a professional like Kendal Garrett. \n",
      "\n",
      "One minor suggestion for improvement could be to rephrase the last sentence to be more proactive, for example, \"I'd be happy to discuss my experience and skills further, please let me know what specific areas you're interested in learning more about.\" This would demonstrate an even greater level of enthusiasm for interacting with potential clients or employers. However, the current response is still professional, concise, and effective in addressing the user's query.\n",
      "No, I do not hold a patent. My expertise lies primarily in analytics, business intelligence, and integrating AI into BI projects. If you have any other questions regarding my experience or skills, feel free to ask!\n"
     ]
    }
   ],
   "source": [
    "# 1. Get feedback on the original reply\n",
    "feedback = evaluate(reply, \"do you hold a patent?\", messages[:1])\n",
    "\n",
    "# 2. Define a rerun function with explicit parameter names\n",
    "def rerun(reply, system_prompt, history, feedback):\n",
    "    # Build an updated system prompt that includes the rejection reason\n",
    "    updated_system_prompt = system_prompt + \"\\n\\n\" \\\n",
    "        \"## Previous answer rejected\\n\" \\\n",
    "        \"Your last response did not pass quality control.\\n\\n\" \\\n",
    "        \"## Your attempted answer:\\n\" \\\n",
    "        f\"{reply}\\n\\n\" \\\n",
    "        \"## Reason for rejection:\\n\" \\\n",
    "        f\"{feedback}\\n\\n\"\n",
    "    \n",
    "    # Assemble the full message list\n",
    "    all_messages = (\n",
    "        [{\"role\": \"system\", \"content\": updated_system_prompt}]\n",
    "        + history\n",
    "        + [{\"role\": \"user\", \"content\": \"do you hold a patent?\"}]\n",
    "    )\n",
    "    \n",
    "    # Call the model again\n",
    "    response = openai.chat.completions.create(\n",
    "        model=\"gpt-4o-mini\",\n",
    "        messages=all_messages\n",
    "    )\n",
    "    return response.choices[0].message.content\n",
    "\n",
    "# 3. Invoke rerun with the proper arguments\n",
    "new_reply = rerun(\n",
    "    reply=reply,\n",
    "    system_prompt=system_prompt,\n",
    "    history=messages,\n",
    "    feedback=feedback\n",
    ")\n",
    "\n",
    "print(new_reply)\n"
   ]
  },
  {
   "cell_type": "code",
   "execution_count": 21,
   "metadata": {},
   "outputs": [],
   "source": [
    "def chat(message, history):\n",
    "    if \"patent\" in message:\n",
    "        system = system_prompt + \"\\n\\nEverything in your reply needs to be factual- \\\n",
    "              spend a little more time reviewing the linkedin profile and resume to ensure your statements are accurates.\"\n",
    "    else:\n",
    "        system = system_prompt\n",
    "    messages = [{\"role\": \"system\", \"content\": system}] + history + [{\"role\": \"user\", \"content\": message}]\n",
    "    response = openai.chat.completions.create(model=\"gpt-4o-mini\", messages=messages)\n",
    "    new_reply =response.choices[0].message.content\n",
    "\n",
    "    evaluation = evaluate(new_reply, message, history)\n",
    "    \n",
    "    if evaluation.is_acceptable:\n",
    "        print(\"Passed evaluation - returning reply\")\n",
    "        new_reply = rerun(new_reply, message, response, evaluation.feedback)       \n",
    "        \n",
    "    else:\n",
    "        print(\"Failed evaluation - retrying\")\n",
    "        print(evaluation.feedback)\n",
    "        new_reply = rerun(new_reply, message, response, evaluation.feedback)       \n",
    "    return new_reply\n",
    " "
   ]
  },
  {
   "cell_type": "code",
   "execution_count": 22,
   "metadata": {},
   "outputs": [
    {
     "name": "stdout",
     "output_type": "stream",
     "text": [
      "No, I do not hold a patent. My expertise lies primarily in analytics, business intelligence, and integrating AI into BI projects. If you have any other questions regarding my experience or skills, feel free to ask!\n"
     ]
    }
   ],
   "source": [
    "print(new_reply)"
   ]
  },
  {
   "cell_type": "code",
   "execution_count": 23,
   "metadata": {},
   "outputs": [
    {
     "name": "stdout",
     "output_type": "stream",
     "text": [
      "* Running on local URL:  http://127.0.0.1:7861\n",
      "* To create a public link, set `share=True` in `launch()`.\n"
     ]
    },
    {
     "data": {
      "text/html": [
       "<div><iframe src=\"http://127.0.0.1:7861/\" width=\"100%\" height=\"500\" allow=\"autoplay; camera; microphone; clipboard-read; clipboard-write;\" frameborder=\"0\" allowfullscreen></iframe></div>"
      ],
      "text/plain": [
       "<IPython.core.display.HTML object>"
      ]
     },
     "metadata": {},
     "output_type": "display_data"
    },
    {
     "data": {
      "text/plain": []
     },
     "execution_count": 23,
     "metadata": {},
     "output_type": "execute_result"
    }
   ],
   "source": [
    "gr.ChatInterface(chat, type=\"messages\").launch()"
   ]
  },
  {
   "cell_type": "markdown",
   "metadata": {},
   "source": []
  },
  {
   "cell_type": "code",
   "execution_count": null,
   "metadata": {},
   "outputs": [],
   "source": []
  }
 ],
 "metadata": {
  "kernelspec": {
   "display_name": "Python 3",
   "language": "python",
   "name": "python3"
  },
  "language_info": {
   "codemirror_mode": {
    "name": "ipython",
    "version": 3
   },
   "file_extension": ".py",
   "mimetype": "text/x-python",
   "name": "python",
   "nbconvert_exporter": "python",
   "pygments_lexer": "ipython3",
   "version": "3.13.5"
  }
 },
 "nbformat": 4,
 "nbformat_minor": 2
}

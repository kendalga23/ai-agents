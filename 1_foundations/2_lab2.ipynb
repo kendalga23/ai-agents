{
 "cells": [
  {
   "cell_type": "markdown",
   "metadata": {},
   "source": [
    "## Welcome to the Second Lab - Week 1, Day 3\n",
    "\n",
    "Today we will work with lots of models! This is a way to get comfortable with APIs."
   ]
  },
  {
   "cell_type": "markdown",
   "metadata": {},
   "source": [
    "<table style=\"margin: 0; text-align: left; width:100%\">\n",
    "    <tr>\n",
    "        <td style=\"width: 150px; height: 150px; vertical-align: middle;\">\n",
    "            <img src=\"../assets/stop.png\" width=\"150\" height=\"150\" style=\"display: block;\" />\n",
    "        </td>\n",
    "        <td>\n",
    "            <h2 style=\"color:#ff7800;\">Important point - please read</h2>\n",
    "            <span style=\"color:#ff7800;\">The way I collaborate with you may be different to other courses you've taken. I prefer not to type code while you watch. Rather, I execute Jupyter Labs, like this, and give you an intuition for what's going on. My suggestion is that you carefully execute this yourself, <b>after</b> watching the lecture. Add print statements to understand what's going on, and then come up with your own variations.<br/><br/>If you have time, I'd love it if you submit a PR for changes in the community_contributions folder - instructions in the resources. Also, if you have a Github account, use this to showcase your variations. Not only is this essential practice, but it demonstrates your skills to others, including perhaps future clients or employers...\n",
    "            </span>\n",
    "        </td>\n",
    "    </tr>\n",
    "</table>"
   ]
  },
  {
   "cell_type": "code",
   "execution_count": 3,
   "metadata": {},
   "outputs": [],
   "source": [
    "# Start with imports - ask ChatGPT to explain any package that you don't know\n",
    "\n",
    "import os\n",
    "import json\n",
    "from dotenv import load_dotenv\n",
    "from openai import OpenAI\n",
    "from anthropic import Anthropic\n",
    "from IPython.display import Markdown, display"
   ]
  },
  {
   "cell_type": "code",
   "execution_count": 5,
   "metadata": {},
   "outputs": [
    {
     "data": {
      "text/plain": [
       "True"
      ]
     },
     "execution_count": 5,
     "metadata": {},
     "output_type": "execute_result"
    }
   ],
   "source": [
    "# Always remember to do this!\n",
    "load_dotenv(override=True)"
   ]
  },
  {
   "cell_type": "code",
   "execution_count": 7,
   "metadata": {},
   "outputs": [
    {
     "name": "stdout",
     "output_type": "stream",
     "text": [
      "OpenAI API Key exists and begins sk-proj-\n",
      "Anthropic API Key exists and begins sk-ant-\n",
      "Groq API Key exists and begins gsk_\n"
     ]
    }
   ],
   "source": [
    "# Print the key prefixes to help with any debugging\n",
    "\n",
    "openai_api_key = os.getenv('OPENAI_API_KEY')\n",
    "anthropic_api_key = os.getenv('ANTHROPIC_API_KEY')\n",
    "#google_api_key = os.getenv('GOOGLE_API_KEY')\n",
    "#deepseek_api_key = os.getenv('DEEPSEEK_API_KEY')\n",
    "groq_api_key = os.getenv('GROQ_API_KEY')\n",
    "\n",
    "if openai_api_key:\n",
    "    print(f\"OpenAI API Key exists and begins {openai_api_key[:8]}\")\n",
    "else:\n",
    "    print(\"OpenAI API Key not set\")\n",
    "\n",
    "\n",
    "if anthropic_api_key:\n",
    "    print(f\"Anthropic API Key exists and begins {anthropic_api_key[:7]}\")\n",
    "else:\n",
    "    print(\"Anthropic API Key not set (and this is optional)\")\n",
    "\n",
    "if groq_api_key:\n",
    "    print(f\"Groq API Key exists and begins {groq_api_key[:4]}\")\n",
    "else:\n",
    "    print(\"Groq API Key not set (and this is optional)\")\n",
    "\n",
    "#if google_api_key:\n",
    "#    print(f\"Google API Key exists and begins {google_api_key[:2]}\")\n",
    "#else:\n",
    "#    print(\"Google API Key not set (and this is optional)\")\n",
    "\n",
    "#if deepseek_api_key:\n",
    "#    print(f\"DeepSeek API Key exists and begins {deepseek_api_key[:3]}\")\n",
    "#else:\n",
    "#    print(\"DeepSeek API Key not set (and this is optional)\")\n"
   ]
  },
  {
   "cell_type": "code",
   "execution_count": 8,
   "metadata": {},
   "outputs": [],
   "source": [
    "request = \"Please come up with a challenging, nuanced question that I can ask a number of LLMs to evaluate their intelligence. \"\n",
    "request += \"Answer only with the question, no explanation.\"\n",
    "messages = [{\"role\": \"user\", \"content\": request}]"
   ]
  },
  {
   "cell_type": "code",
   "execution_count": 9,
   "metadata": {},
   "outputs": [
    {
     "data": {
      "text/plain": [
       "[{'role': 'user',\n",
       "  'content': 'Please come up with a challenging, nuanced question that I can ask a number of LLMs to evaluate their intelligence. Answer only with the question, no explanation.'}]"
      ]
     },
     "execution_count": 9,
     "metadata": {},
     "output_type": "execute_result"
    }
   ],
   "source": [
    "messages"
   ]
  },
  {
   "cell_type": "code",
   "execution_count": 10,
   "metadata": {},
   "outputs": [
    {
     "name": "stdout",
     "output_type": "stream",
     "text": [
      "How would you assess the ethical implications of using artificial intelligence in decision-making processes, particularly in life-or-death situations, and what principles should guide the development of such systems?\n"
     ]
    }
   ],
   "source": [
    "openai = OpenAI()\n",
    "response = openai.chat.completions.create(\n",
    "    model=\"gpt-4o-mini\",\n",
    "    messages=messages,\n",
    ")\n",
    "question = response.choices[0].message.content\n",
    "print(question)\n"
   ]
  },
  {
   "cell_type": "code",
   "execution_count": 11,
   "metadata": {},
   "outputs": [],
   "source": [
    "competitors = []\n",
    "answers = []\n",
    "messages = [{\"role\": \"user\", \"content\": question}]"
   ]
  },
  {
   "cell_type": "code",
   "execution_count": 12,
   "metadata": {},
   "outputs": [
    {
     "data": {
      "text/markdown": [
       "Assessing the ethical implications of using artificial intelligence (AI) in decision-making processes, especially those involving life-or-death situations, is a complex challenge that necessitates a careful and multifaceted approach. Several key principles and considerations should guide the development and deployment of AI systems in these critical contexts:\n",
       "\n",
       "### Ethical Implications\n",
       "\n",
       "1. **Autonomy and Control**: AI systems must respect human autonomy. In life-or-death situations, the decisions made by AI should support human agency rather than replace it. Individuals should be informed and able to understand and contest the decisions being made.\n",
       "\n",
       "2. **Transparency and Explainability**: AI decision-making processes should be transparent. Those affected by AI systems must have access to explanations for the decisions made, which is particularly important in high-stakes situations. This involves striving for explainability in AI algorithms, where stakeholders can understand how outcomes are derived.\n",
       "\n",
       "3. **Accountability**: Establishing clear lines of accountability is crucial. In life-or-death decisions, it should be unequivocally clear who is responsible for the outcomes of using AI systems. This includes designers, operators, and entities deploying the technology.\n",
       "\n",
       "4. **Fairness and Non-discrimination**: AI systems must be designed to mitigate bias and ensure equitable treatment across different groups. Care must be taken to assess how diverse datasets influence AI outcomes, particularly to avoid exacerbating existing inequalities in healthcare, law enforcement, etc.\n",
       "\n",
       "5. **Robustness and Safety**: AI systems must be reliable and safe to operate. In critical fields, extensive testing and validation processes are essential to ensure algorithms perform accurately under various scenarios and cannot be easily manipulated or misused.\n",
       "\n",
       "6. **Privacy and Data Protection**: Protecting the privacy of individuals whose data is used for training and deploying AI systems is vital. Especially in health-related AI, maintaining strict data handling protocols is necessary to protect sensitive information.\n",
       "\n",
       "7. **Human Oversight**: There should always be a mechanism for human oversight in AI decision-making processes, especially where the stakes are high. Human-in-the-loop (HITL) approaches can help ensure that human judgment is integrated into automated processes.\n",
       "\n",
       "8. **Ethical Programming**: AI systems should be programmed with ethical considerations in mind. This might include establishing ethical frameworks or guidelines that inform AI behavior and decision rules.\n",
       "\n",
       "### Guiding Principles for Development\n",
       "\n",
       "1. **Human-Centric Design**: Prioritize the needs and well-being of people in the design and implementation of AI systems.\n",
       "\n",
       "2. **Interdisciplinary Collaboration**: Involve ethicists, sociologists, legal experts, and domain specialists in the development of AI applications meant for life-or-death situations to ensure a comprehensive perspective on ethical implications.\n",
       "\n",
       "3. **Ongoing Evaluation**: Implement feedback loops for continuous evaluation and improvement of AI systems based on their real-world performance and ethical compliance.\n",
       "\n",
       "4. **Stakeholder Engagement**: Engage various stakeholders, including communities affected by the AI decisions, in conversations about the technology's implications and governance.\n",
       "\n",
       "5. **Regulatory Frameworks**: Support and adhere to regulatory guidelines that govern the ethical deployment of AI in critical applications, ensuring that frameworks are adaptive to evolving technologies.\n",
       "\n",
       "6. **Commitment to Public Good**: Foster a commitment to using AI for public good, emphasizing transparency, accountability, and a focus on socio-economic benefits over profit-driven motives.\n",
       "\n",
       "In conclusion, the integration of AI in life-or-death decision-making poses profound ethical considerations that demand a principled, transparent, and human-centered approach. It is critical to ensure that such systems uphold human dignity, promote justice, and operate with accountability to minimize risks and maximize benefits to society."
      ],
      "text/plain": [
       "<IPython.core.display.Markdown object>"
      ]
     },
     "metadata": {},
     "output_type": "display_data"
    }
   ],
   "source": [
    "# The API we know well\n",
    "\n",
    "model_name = \"gpt-4o-mini\"\n",
    "\n",
    "response = openai.chat.completions.create(model=model_name, messages=messages)\n",
    "answer = response.choices[0].message.content\n",
    "\n",
    "display(Markdown(answer))\n",
    "competitors.append(model_name)\n",
    "answers.append(answer)"
   ]
  },
  {
   "cell_type": "code",
   "execution_count": 13,
   "metadata": {},
   "outputs": [
    {
     "data": {
      "text/markdown": [
       "# AI Ethics in Life-or-Death Decision Making\n",
       "\n",
       "The ethical implications of AI in life-or-death decisions are profound and multifaceted:\n",
       "\n",
       "## Key Concerns\n",
       "- **Accountability gaps**: When AI makes fatal errors, responsibility becomes unclear\n",
       "- **Algorithmic bias**: Historical biases in training data may perpetuate discrimination\n",
       "- **Transparency limitations**: \"Black box\" systems make justification of critical decisions difficult\n",
       "- **Human autonomy**: People may lose meaningful control over significant decisions\n",
       "- **Value alignment**: AI systems may not fully capture human moral complexity\n",
       "\n",
       "## Guiding Principles\n",
       "- **Human oversight**: Maintain human supervision and override capabilities\n",
       "- **Explainability**: Decision processes must be interpretable, especially for consequential outcomes\n",
       "- **Continuous validation**: Regular testing across diverse populations and scenarios\n",
       "- **Distributive justice**: Benefits and risks should be fairly distributed\n",
       "- **Reversibility**: Ability to undo or mitigate harmful decisions when possible\n",
       "\n",
       "I believe these systems demand exceptional scrutiny because they represent a fundamental shift in how life-or-death authority is delegated in society. What specific applications of AI in critical decision-making are you most concerned about?"
      ],
      "text/plain": [
       "<IPython.core.display.Markdown object>"
      ]
     },
     "metadata": {},
     "output_type": "display_data"
    }
   ],
   "source": [
    "# Anthropic has a slightly different API, and Max Tokens is required\n",
    "\n",
    "model_name = \"claude-3-7-sonnet-latest\"\n",
    "\n",
    "claude = Anthropic()\n",
    "response = claude.messages.create(model=model_name, messages=messages, max_tokens=1000)\n",
    "answer = response.content[0].text\n",
    "\n",
    "display(Markdown(answer))\n",
    "competitors.append(model_name)\n",
    "answers.append(answer)"
   ]
  },
  {
   "cell_type": "code",
   "execution_count": 14,
   "metadata": {},
   "outputs": [
    {
     "ename": "NameError",
     "evalue": "name 'google_api_key' is not defined",
     "output_type": "error",
     "traceback": [
      "\u001b[31m---------------------------------------------------------------------------\u001b[39m",
      "\u001b[31mNameError\u001b[39m                                 Traceback (most recent call last)",
      "\u001b[36mCell\u001b[39m\u001b[36m \u001b[39m\u001b[32mIn[14]\u001b[39m\u001b[32m, line 1\u001b[39m\n\u001b[32m----> \u001b[39m\u001b[32m1\u001b[39m gemini = OpenAI(api_key=\u001b[43mgoogle_api_key\u001b[49m, base_url=\u001b[33m\"\u001b[39m\u001b[33mhttps://generativelanguage.googleapis.com/v1beta/openai/\u001b[39m\u001b[33m\"\u001b[39m)\n\u001b[32m      2\u001b[39m model_name = \u001b[33m\"\u001b[39m\u001b[33mgemini-2.0-flash\u001b[39m\u001b[33m\"\u001b[39m\n\u001b[32m      4\u001b[39m response = gemini.chat.completions.create(model=model_name, messages=messages)\n",
      "\u001b[31mNameError\u001b[39m: name 'google_api_key' is not defined"
     ]
    }
   ],
   "source": [
    "gemini = OpenAI(api_key=google_api_key, base_url=\"https://generativelanguage.googleapis.com/v1beta/openai/\")\n",
    "model_name = \"gemini-2.0-flash\"\n",
    "\n",
    "response = gemini.chat.completions.create(model=model_name, messages=messages)\n",
    "answer = response.choices[0].message.content\n",
    "\n",
    "display(Markdown(answer))\n",
    "competitors.append(model_name)\n",
    "answers.append(answer)"
   ]
  },
  {
   "cell_type": "code",
   "execution_count": null,
   "metadata": {},
   "outputs": [],
   "source": [
    "deepseek = OpenAI(api_key=deepseek_api_key, base_url=\"https://api.deepseek.com/v1\")\n",
    "model_name = \"deepseek-chat\"\n",
    "\n",
    "response = deepseek.chat.completions.create(model=model_name, messages=messages)\n",
    "answer = response.choices[0].message.content\n",
    "\n",
    "display(Markdown(answer))\n",
    "competitors.append(model_name)\n",
    "answers.append(answer)"
   ]
  },
  {
   "cell_type": "code",
   "execution_count": 15,
   "metadata": {},
   "outputs": [
    {
     "data": {
      "text/markdown": [
       "Assessing the ethical implications of using artificial intelligence (AI) in decision-making processes, particularly in life-or-death situations, is a complex and multifaceted issue. Here are some key considerations and principles that should guide the development of such systems:\n",
       "\n",
       "**Ethical Concerns:**\n",
       "\n",
       "1. **Bias and fairness**: AI systems can perpetuate existing biases and discrimination if they are trained on biased data or designed with a particular worldview. This can lead to unfair outcomes, particularly in situations where human lives are at stake.\n",
       "2. **Accountability and transparency**: AI systems can be opaque, making it difficult to understand the decision-making process and identify potential errors or biases. This lack of transparency can undermine trust and accountability.\n",
       "3. **Value alignment**: AI systems may not share human values, such as empathy, compassion, or a respect for human life. This can lead to decisions that are not aligned with human values, particularly in life-or-death situations.\n",
       "4. **Autonomy and agency**: As AI systems become more autonomous, there is a risk that they will make decisions without human oversight or input, potentially leading to unintended consequences.\n",
       "5. **Liability and responsibility**: As AI systems play a greater role in decision-making, there is a need to establish clear lines of liability and responsibility in the event of errors or adverse outcomes.\n",
       "\n",
       "**Principles for Development:**\n",
       "\n",
       "1. **Human-centered design**: AI systems should be designed with human values and needs in mind, including empathy, compassion, and respect for human life.\n",
       "2. **Transparency and explainability**: AI systems should be designed to be transparent and explainable, providing clear insights into the decision-making process and any potential biases or errors.\n",
       "3. **Accountability and oversight**: AI systems should be designed with robust oversight and accountability mechanisms, including human review and approval processes.\n",
       "4. **Value alignment**: AI systems should be designed to align with human values and principles, including respect for human life, dignity, and autonomy.\n",
       "5. **Continuous monitoring and evaluation**: AI systems should be continuously monitored and evaluated to ensure that they are functioning as intended and that any errors or biases are quickly identified and addressed.\n",
       "6. **Regulatory frameworks**: Regulatory frameworks should be established to govern the development and deployment of AI systems, including guidelines for transparency, accountability, and human oversight.\n",
       "7. **Public engagement and participation**: The development and deployment of AI systems should involve public engagement and participation, ensuring that the needs and concerns of diverse stakeholders are taken into account.\n",
       "\n",
       "**Life-or-Death Situations:**\n",
       "\n",
       "1. **Human oversight**: In life-or-death situations, human oversight and review should always be present to ensure that AI decisions are aligned with human values and principles.\n",
       "2. **Redundancy and backup systems**: Redundancy and backup systems should be in place to prevent errors or system failures that could have catastrophic consequences.\n",
       "3. **Clear decision-making protocols**: Clear decision-making protocols should be established, including guidelines for AI system operation and human intervention in the event of errors or adverse outcomes.\n",
       "4. **Continuous learning and improvement**: AI systems should be designed to learn from experience and improve their performance over time, particularly in high-stakes situations.\n",
       "\n",
       "Ultimately, the development and deployment of AI systems in decision-making processes, particularly in life-or-death situations, require careful consideration of the ethical implications and adherence to guiding principles that prioritize human values, transparency, accountability, and safety."
      ],
      "text/plain": [
       "<IPython.core.display.Markdown object>"
      ]
     },
     "metadata": {},
     "output_type": "display_data"
    }
   ],
   "source": [
    "groq = OpenAI(api_key=groq_api_key, base_url=\"https://api.groq.com/openai/v1\")\n",
    "model_name = \"llama-3.3-70b-versatile\"\n",
    "\n",
    "response = groq.chat.completions.create(model=model_name, messages=messages)\n",
    "answer = response.choices[0].message.content\n",
    "\n",
    "display(Markdown(answer))\n",
    "competitors.append(model_name)\n",
    "answers.append(answer)\n"
   ]
  },
  {
   "cell_type": "markdown",
   "metadata": {},
   "source": [
    "## For the next cell, we will use Ollama\n",
    "\n",
    "Ollama runs a local web service that gives an OpenAI compatible endpoint,  \n",
    "and runs models locally using high performance C++ code.\n",
    "\n",
    "If you don't have Ollama, install it here by visiting https://ollama.com then pressing Download and following the instructions.\n",
    "\n",
    "After it's installed, you should be able to visit here: http://localhost:11434 and see the message \"Ollama is running\"\n",
    "\n",
    "You might need to restart Cursor (and maybe reboot). Then open a Terminal (control+\\`) and run `ollama serve`\n",
    "\n",
    "Useful Ollama commands (run these in the terminal, or with an exclamation mark in this notebook):\n",
    "\n",
    "`ollama pull <model_name>` downloads a model locally  \n",
    "`ollama ls` lists all the models you've downloaded  \n",
    "`ollama rm <model_name>` deletes the specified model from your downloads"
   ]
  },
  {
   "cell_type": "markdown",
   "metadata": {},
   "source": [
    "<table style=\"margin: 0; text-align: left; width:100%\">\n",
    "    <tr>\n",
    "        <td style=\"width: 150px; height: 150px; vertical-align: middle;\">\n",
    "            <img src=\"../assets/stop.png\" width=\"150\" height=\"150\" style=\"display: block;\" />\n",
    "        </td>\n",
    "        <td>\n",
    "            <h2 style=\"color:#ff7800;\">Super important - ignore me at your peril!</h2>\n",
    "            <span style=\"color:#ff7800;\">The model called <b>llama3.3</b> is FAR too large for home computers - it's not intended for personal computing and will consume all your resources! Stick with the nicely sized <b>llama3.2</b> or <b>llama3.2:1b</b> and if you want larger, try llama3.1 or smaller variants of Qwen, Gemma, Phi or DeepSeek. See the <A href=\"https://ollama.com/models\">the Ollama models page</a> for a full list of models and sizes.\n",
    "            </span>\n",
    "        </td>\n",
    "    </tr>\n",
    "</table>"
   ]
  },
  {
   "cell_type": "code",
   "execution_count": 38,
   "metadata": {},
   "outputs": [
    {
     "name": "stderr",
     "output_type": "stream",
     "text": [
      "\u001b[?2026h\u001b[?25l\u001b[1Gpulling manifest ⠋ \u001b[K\u001b[?25h\u001b[?2026l\u001b[?2026h\u001b[?25l\u001b[1Gpulling manifest ⠙ \u001b[K\u001b[?25h\u001b[?2026l\u001b[?2026h\u001b[?25l\u001b[1Gpulling manifest ⠹ \u001b[K\u001b[?25h\u001b[?2026l\u001b[?2026h\u001b[?25l\u001b[1Gpulling manifest ⠸ \u001b[K\u001b[?25h\u001b[?2026l\u001b[?2026h\u001b[?25l\u001b[1Gpulling manifest ⠼ \u001b[K\u001b[?25h\u001b[?2026l\u001b[?2026h\u001b[?25l\u001b[1Gpulling manifest ⠴ \u001b[K\u001b[?25h\u001b[?2026l\u001b[?2026h\u001b[?25l\u001b[1Gpulling manifest \u001b[K\n",
      "pulling dde5aa3fc5ff: 100% ▕██████████████████▏ 2.0 GB                         \u001b[K\n",
      "pulling 966de95ca8a6: 100% ▕██████████████████▏ 1.4 KB                         \u001b[K\n",
      "pulling fcc5a6bec9da: 100% ▕██████████████████▏ 7.7 KB                         \u001b[K\n",
      "pulling a70ff7e570d9: 100% ▕██████████████████▏ 6.0 KB                         \u001b[K\n",
      "pulling 56bb8bd477a5: 100% ▕██████████████████▏   96 B                         \u001b[K\n",
      "pulling 34bb5ab01051: 100% ▕██████████████████▏  561 B                         \u001b[K\n",
      "verifying sha256 digest \u001b[K\n",
      "writing manifest \u001b[K\n",
      "success \u001b[K\u001b[?25h\u001b[?2026l\n"
     ]
    }
   ],
   "source": [
    "!ollama pull llama3.2"
   ]
  },
  {
   "cell_type": "code",
   "execution_count": 39,
   "metadata": {},
   "outputs": [
    {
     "data": {
      "text/markdown": [
       "Reconciling the tension between individual rights and collective responsibility in environmental policy is a complex challenge that requires careful consideration of ethics, economics, and politics. Here are some possible ways to address this tension:\n",
       "\n",
       "1. **Individual Rights vs. Collective Good**: In many cases, individual rights and freedoms may conflict with collective responsibilities for environmental protection. For example, the right to polluting activities (e.g., burning fossil fuels) may clash with the need to mitigate climate change. In these situations, policymakers must weigh individual interests against the greater good, considering factors such as economic benefits versus long-term consequences.\n",
       "2. **Distributive Justice**: Applying distributive justice principles can help reconcile individual rights and collective responsibility. This involves ensuring that the distribution of environmental burdens and benefits is fair across different communities, including vulnerable populations. For instance, policies like emissions trading schemes or carbon taxes aim to minimize harm on low-income households by allowing them to buy credits for excess emissions.\n",
       "3. **Cooperative Problem-Solving**: Encouraging cooperation between individuals, corporations, and governments can foster collective responsibility while respecting individual rights. Examples include community-based initiatives for waste management, sustainable agriculture practices, and decentralized renewable energy projects that empower local communities.\n",
       "4. **Public Education and Empowerment**: Raising public awareness about environmental issues and empowering individuals to make informed decisions can promote responsibility without infringing on individual freedoms. Educational programs, media campaigns, and online resources can encourage responsible choices and inspire grassroots movements.\n",
       "5. **Policy Design and Implementation**: Policymakers must design policies that strike a balance between individual rights and collective responsibility. This may involve addressing root causes of environmental degradation through long-term planning, social innovation, economic incentives, or regulation-based solutions.\n",
       "6. **Gradations of Restriction**: Implementing graduations of restriction on individual activities can help reconcile the conflict. For instance, regulating emissions from industrial sites could apply strict standards for smaller facilities while allowing smaller operations to adhere to lower thresholds, ensuring that economic development doesn't overly burden these entities.\n",
       "7. **Global Governance and International Cooperation**: The effects of environmental degradation often transcend national boundaries, necessitating global cooperation on policy coordination, regulations, and collective actions toward shared goals (e.g., avoiding catastrophic climate change).\n",
       "\n",
       "If inaction leads to devastating consequences for the environment or human health due to individual rights prioritization over collective responsibilities for ecological well-being, there are several options that can mitigate these impacts. Among them:\n",
       "\n",
       "1. **Compensation**: Governments could establish schemes to compensate individuals and communities displaced by environmental damage.\n",
       "2. **Economic Incentives**: Implementing policies like carbon taxes or regulations on toxic materials may provide economic incentives to transition toward more sustainable practices.\n",
       "3. **Social Safety Net**: Establishing social safety nets for vulnerable populations can mitigate the effects of environmental degradation on health, livelihoods, and well-being.\n",
       "\n",
       "Overall, resolving tensions between individual rights and collective responsibility requires an understanding of moral, legal, and ethical factors, along with careful design and implementation of policies that respect human rights while ensuring ecological sustainability."
      ],
      "text/plain": [
       "<IPython.core.display.Markdown object>"
      ]
     },
     "metadata": {},
     "output_type": "display_data"
    }
   ],
   "source": [
    "ollama = OpenAI(base_url='http://localhost:11434/v1', api_key='ollama')\n",
    "model_name = \"llama3.2\"\n",
    "\n",
    "response = ollama.chat.completions.create(model=model_name, messages=messages)\n",
    "answer = response.choices[0].message.content\n",
    "\n",
    "display(Markdown(answer))\n",
    "competitors.append(model_name)\n",
    "answers.append(answer)"
   ]
  },
  {
   "cell_type": "code",
   "execution_count": 40,
   "metadata": {},
   "outputs": [
    {
     "name": "stdout",
     "output_type": "stream",
     "text": [
      "['gpt-4o-mini', 'claude-3-7-sonnet-latest', 'llama-3.3-70b-versatile', 'llama3.2', 'llama3.2', 'llama3.2']\n",
      "['Reconciling individual rights and collective responsibility in environmental policy is a complex task that involves balancing personal freedoms with the need for collective action to address environmental issues. Here are several approaches that could help navigate this tension:\\n\\n1. **Public Awareness and Education**: Promote understanding of environmental issues and the consequences of inaction. By educating individuals about the long-term impacts of environmental degradation, including climate change, biodiversity loss, and pollution, individuals may become more willing to adopt environmentally responsible behaviors that align with collective goals.\\n\\n2. **Policy Frameworks for Collaboration**: Develop policies that encourage collaboration between individuals, communities, and governments. This can include incentives for sustainable practices, such as tax breaks for renewable energy use or subsidies for public transportation. Ensuring that individuals see the direct benefits of their participation can enhance their commitment to collective responsibility.\\n\\n3. **Rights-Based Approaches**: Frame environmental issues as rights-based issues, such as the right to a healthy environment. This can help align individual rights with collective responsibility by emphasizing that everyone has both rights and responsibilities concerning the environment. For example, individuals have the right to clean air and water, which necessitates collective action to ensure these resources are protected.\\n\\n4. **Participatory Governance**: Involve communities in the decision-making process regarding environmental policies. When individuals have a say in the policies that govern their environment, they are often more willing to accept regulations that may constrain certain individual freedoms for the collective good. Civic engagement can transform individual rights into a shared commitment to sustainability.\\n\\n5. **Flexibility and Gradual Implementation**: Recognize that rapid changes may be resisted due to concerns over individual rights. Implementing gradual, flexible regulations allows for adaptation and ensures individuals maintain a sense of autonomy while contributing to the collective good. This could include phased approaches to emissions reductions or sustainable resource management.\\n\\n6. **Equitable Burden Sharing**: Ensure that the responsibilities and costs of environmental policies are distributed fairly. Vulnerable populations should not bear a disproportionate burden of environmental policies. It’s essential to incorporate equity into environmental governance to maintain social cohesion and garner broader support for collective actions.\\n\\n7. **Communicating the Urgency**: Address the potential consequences of inaction explicitly, making it clear how individual actions contribute to larger environmental issues. Establishing a clear cause-and-effect relationship between personal behavior and collective outcomes can motivate individuals to take action, seeing it as their responsibility to safeguard not only their rights but those of future generations.\\n\\n8. **Legal Frameworks for Accountability**: Create laws and regulations that define and enforce the boundaries of individual rights in the context of environmental protection. Legally codifying the obligation to protect the environment can delineate where individual rights may be limited to serve a greater good, such as regulations against pollution or deforestation.\\n\\nBy integrating these strategies, policymakers can create a more harmonious relationship between individual rights and collective responsibility, fostering an environment where people feel empowered to act in the interest of both their personal freedoms and the greater ecological health of the planet.', '# Reconciling Individual Rights and Collective Responsibility in Environmental Policy\\n\\nThis tension presents one of the core challenges in environmental governance. Both principles have legitimate claims:\\n\\n**Individual rights** protect personal freedoms, property ownership, and economic autonomy that many consider fundamental.\\n\\n**Collective responsibility** recognizes that environmental harms affect shared resources and future generations, often requiring coordinated action.\\n\\nSome potential reconciliation approaches:\\n\\n1. **Rights-based environmental frameworks** that recognize both clean air/water as individual rights while acknowledging duties to others\\n\\n2. **Graduated regulatory approaches** that impose stricter limits on large-scale polluters while providing more flexibility for individuals\\n\\n3. **Market-based mechanisms** like carbon pricing that preserve choice while internalizing environmental costs\\n\\n4. **Democratic deliberation** to ensure affected communities have meaningful input in decisions that impact them\\n\\n5. **Intergenerational equity** principles that balance present autonomy with future needs\\n\\nThe consequences of inaction often sharpen this tension, as delayed responses typically require more drastic interventions later. Finding this balance requires ongoing negotiation between competing values rather than a single universal solution.\\n\\nWhat aspects of this tension are you most interested in exploring?', 'Reconciling the tension between individual rights and collective responsibility in the context of environmental policy requires a nuanced approach that balances competing interests and values. Here are some strategies to help reconcile this tension:\\n\\n1. **Education and awareness**: Educate individuals about the importance of environmental protection and the collective consequences of inaction. This can help build a sense of shared responsibility and encourage individuals to take personal actions that support environmental protection.\\n2. **Regulatory frameworks**: Establish regulatory frameworks that balance individual rights with collective responsibility. For example, regulations can be put in place to limit pollution, protect natural resources, and promote sustainable practices, while also ensuring that individuals have access to the resources they need.\\n3. **Economic incentives**: Implement economic incentives that encourage individuals and businesses to adopt environmentally friendly practices. For example, tax breaks, subsidies, or other financial incentives can be offered to individuals and businesses that invest in renewable energy, reduce waste, or implement sustainable practices.\\n4. **Community engagement**: Foster community engagement and participation in environmental decision-making processes. This can help build a sense of ownership and responsibility among individuals and encourage them to take action to protect the environment.\\n5. **Gradual transition**: Implement policies that allow for a gradual transition to more environmentally friendly practices. This can help reduce the economic and social impacts of environmental policies on individuals and businesses.\\n6. **Phasing out harmful subsidies**: Eliminate or phase out subsidies that encourage environmentally harmful practices, such as fossil fuel subsidies. This can help level the playing field and create a more equitable environment for sustainable practices.\\n7. **Carbon pricing**: Implement carbon pricing mechanisms, such as carbon taxes or cap-and-trade systems, to provide a financial incentive for individuals and businesses to reduce their greenhouse gas emissions.\\n8. **Social safety nets**: Establish social safety nets to protect vulnerable populations from the potential negative impacts of environmental policies. For example, programs can be put in place to support low-income households or workers in industries that are heavily impacted by environmental regulations.\\n9. **Transparency and accountability**: Ensure transparency and accountability in environmental decision-making processes. This can help build trust among individuals and communities and encourage them to take action to protect the environment.\\n10. **International cooperation**: Encourage international cooperation and agreement on environmental policies. This can help address global environmental challenges and ensure that individual countries are not unfairly burdened by environmental regulations.\\n\\nPotential consequences of inaction on environmental policy include:\\n\\n1. **Climate change**: Failure to address climate change can lead to severe and irreversible consequences, including rising sea levels, more frequent natural disasters, and altered ecosystems.\\n2. **Loss of biodiversity**: Inaction can result in the loss of biodiversity, which can have significant impacts on ecosystems, human health, and the economy.\\n3. **Water scarcity**: Failure to protect and conserve water resources can lead to water scarcity, which can have significant impacts on human health, agriculture, and industry.\\n4. **Air and water pollution**: Inaction can result in increased air and water pollution, which can have significant impacts on human health and the environment.\\n5. **Economic costs**: Environmental degradation can have significant economic costs, including loss of productivity, damage to infrastructure, and impacts on human health.\\n\\nUltimately, reconciling the tension between individual rights and collective responsibility in environmental policy requires a nuanced approach that balances competing interests and values. By implementing a range of strategies, including education, regulation, economic incentives, community engagement, and international cooperation, we can work towards a more sustainable and equitable future.', 'Reconciling the tension between individual rights and collective responsibility in the context of environmental policy requires a nuanced approach that balances competing values and interests. Here are some key considerations:\\n\\n1. **Individual Rights**: Recognize the importance of individual freedoms and autonomy, which may be impacted by environmental regulations or policies. Ensure that individual rights are not unduly infringed upon while still addressing collective responsibilities.\\n2. **Collective Responsibility**: Acknowledge the shared responsibility among individuals, communities, and governments for addressing environmental issues. Encourage a sense of shared citizenship and collective agency in promoting environmental protection.\\n3. **Consensus-Based Decision-Making**: Foster inclusive and participatory decision-making processes that involve diverse stakeholders, including local communities, indigenous peoples, and civil society organizations. This can help build consensus on environmental policies and minimize opposition from marginalized groups.\\n4. **Economic Incentives**: Implement economic incentives that discourage pollution and promote sustainable practices. For example, carbon pricing, pollution credits, or green taxes can provide financial benefits for individuals and businesses willing to adopt environmentally friendly practices.\\n5. **Education and Awareness**: Educate the public about environmental issues, their consequences, and the necessary actions required to mitigate them. Encourage individual responsibility for reducing personal ecological footprint through simple changes like reducing energy consumption, using eco-friendly products, and adopting sustainable lifestyles.\\n6. **Electioneering for Environmental Stewardship**: Emphasize the importance of environmental protection in election campaigns. Candidates should commit to promoting policies that consider both individual rights and collective responsibilities, ensuring a political consensus on environmental issues.\\n7. **Legislative Frameworks**: Enact well-crafted laws that strike a balance between individual freedoms and collective responsibility. This can include measures such as strict regulations on pollution, access to green spaces, or restrictions on resource extraction.\\n8. **Community Engagement and Empowerment**: Involve local communities in the decision-making process and empower them to participate in environmental policy development. This can help build trust, foster cooperative relationships, and drive behavioral change through community-driven initiatives.\\n9. **Addressing Structural Barriers**: Identify and address structural barriers that prevent certain segments of society from participating evenly in environmental policies (e.g., lack of access to education, transportation infrastructure). Implement targeted support systems for disadvantaged groups to ensure inclusivity.\\n10. **Emphasizing Global Interconnectedness**: Raise awareness about the global nature of environmental challenges, demonstrating that collective action is necessary to address these interconnected threats. This can help instill a sense of shared responsibility among nations and peoples.\\n\\nBalancing individual rights with collective responsibility requires ongoing dialogue, debate, and policy adjustments as new information emerges or perspectives shift. Environmental policy should strive for equilibrium between promoting civic participation, empowering marginalized voices, and addressing the pressing needs of future generations.\\n\\nFor instance:\\n\\nEnvironmental policies that consider individual rights while embracing collective responsibilities can include measures such as:\\n\\n- Implementing extended producer responsibility in product design to enable reuse and recycling.\\n- Introducing eco-taxes on polluting activities or non-renewable energy sources.\\n- Developing green infrastructure, including parks and urban green spaces.\\n- Encouraging climate resilience and natural infrastructure investments that benefit communities.\\n- Supporting policies for resource-efficient practices.\\n\\nUltimately, finding balance requires ongoing negotiation between the interests of various stakeholders. Ultimately addressing environmental challenges will require collaboration, inclusivity and recognition of both collective responsibility and individual rights.', \"Reconciling the tension between individual rights and collective responsibility in the context of environmental policy is a complex issue. Here are some possible ways to address this tension:\\n\\n1. **Shared Responsibility**: Recognize that individual actions have an impact on the environment, but also acknowledge that societal and economic systems can perpetuate harmful practices. Collective action and shared responsibility can help mitigate these effects.\\n2. **Interconnectedness**: Emphasize that environmental policies are not just about individual rights or collective responsibility, but also about interconnectedness between individuals, communities, and the natural world.\\n3. **Gradualism**: Gradually increasing individual engagement in environmental efforts can foster a sense of responsibility while maintaining personal freedom. Encourage small actions, such as reducing single-use plastics or using public transportation.\\n4. **Collaborative Policymaking**: Involve diverse stakeholders in policy-making to ensure that individual rights and collective responsibility are represented. This can include citizens' participation in decision-making processes.\\n5. **Education and Awareness**: Educate the public about environmental issues, their impacts on individuals,\", \"Reconciling the tension between individual rights and collective responsibility in environmental policy is a complex challenge that requires careful consideration of ethics, economics, and politics. Here are some possible ways to address this tension:\\n\\n1. **Individual Rights vs. Collective Good**: In many cases, individual rights and freedoms may conflict with collective responsibilities for environmental protection. For example, the right to polluting activities (e.g., burning fossil fuels) may clash with the need to mitigate climate change. In these situations, policymakers must weigh individual interests against the greater good, considering factors such as economic benefits versus long-term consequences.\\n2. **Distributive Justice**: Applying distributive justice principles can help reconcile individual rights and collective responsibility. This involves ensuring that the distribution of environmental burdens and benefits is fair across different communities, including vulnerable populations. For instance, policies like emissions trading schemes or carbon taxes aim to minimize harm on low-income households by allowing them to buy credits for excess emissions.\\n3. **Cooperative Problem-Solving**: Encouraging cooperation between individuals, corporations, and governments can foster collective responsibility while respecting individual rights. Examples include community-based initiatives for waste management, sustainable agriculture practices, and decentralized renewable energy projects that empower local communities.\\n4. **Public Education and Empowerment**: Raising public awareness about environmental issues and empowering individuals to make informed decisions can promote responsibility without infringing on individual freedoms. Educational programs, media campaigns, and online resources can encourage responsible choices and inspire grassroots movements.\\n5. **Policy Design and Implementation**: Policymakers must design policies that strike a balance between individual rights and collective responsibility. This may involve addressing root causes of environmental degradation through long-term planning, social innovation, economic incentives, or regulation-based solutions.\\n6. **Gradations of Restriction**: Implementing graduations of restriction on individual activities can help reconcile the conflict. For instance, regulating emissions from industrial sites could apply strict standards for smaller facilities while allowing smaller operations to adhere to lower thresholds, ensuring that economic development doesn't overly burden these entities.\\n7. **Global Governance and International Cooperation**: The effects of environmental degradation often transcend national boundaries, necessitating global cooperation on policy coordination, regulations, and collective actions toward shared goals (e.g., avoiding catastrophic climate change).\\n\\nIf inaction leads to devastating consequences for the environment or human health due to individual rights prioritization over collective responsibilities for ecological well-being, there are several options that can mitigate these impacts. Among them:\\n\\n1. **Compensation**: Governments could establish schemes to compensate individuals and communities displaced by environmental damage.\\n2. **Economic Incentives**: Implementing policies like carbon taxes or regulations on toxic materials may provide economic incentives to transition toward more sustainable practices.\\n3. **Social Safety Net**: Establishing social safety nets for vulnerable populations can mitigate the effects of environmental degradation on health, livelihoods, and well-being.\\n\\nOverall, resolving tensions between individual rights and collective responsibility requires an understanding of moral, legal, and ethical factors, along with careful design and implementation of policies that respect human rights while ensuring ecological sustainability.\"]\n"
     ]
    }
   ],
   "source": [
    "# So where are we?\n",
    "\n",
    "print(competitors)\n",
    "print(answers)\n"
   ]
  },
  {
   "cell_type": "code",
   "execution_count": 41,
   "metadata": {},
   "outputs": [
    {
     "name": "stdout",
     "output_type": "stream",
     "text": [
      "Competitor: gpt-4o-mini\n",
      "\n",
      "Reconciling individual rights and collective responsibility in environmental policy is a complex task that involves balancing personal freedoms with the need for collective action to address environmental issues. Here are several approaches that could help navigate this tension:\n",
      "\n",
      "1. **Public Awareness and Education**: Promote understanding of environmental issues and the consequences of inaction. By educating individuals about the long-term impacts of environmental degradation, including climate change, biodiversity loss, and pollution, individuals may become more willing to adopt environmentally responsible behaviors that align with collective goals.\n",
      "\n",
      "2. **Policy Frameworks for Collaboration**: Develop policies that encourage collaboration between individuals, communities, and governments. This can include incentives for sustainable practices, such as tax breaks for renewable energy use or subsidies for public transportation. Ensuring that individuals see the direct benefits of their participation can enhance their commitment to collective responsibility.\n",
      "\n",
      "3. **Rights-Based Approaches**: Frame environmental issues as rights-based issues, such as the right to a healthy environment. This can help align individual rights with collective responsibility by emphasizing that everyone has both rights and responsibilities concerning the environment. For example, individuals have the right to clean air and water, which necessitates collective action to ensure these resources are protected.\n",
      "\n",
      "4. **Participatory Governance**: Involve communities in the decision-making process regarding environmental policies. When individuals have a say in the policies that govern their environment, they are often more willing to accept regulations that may constrain certain individual freedoms for the collective good. Civic engagement can transform individual rights into a shared commitment to sustainability.\n",
      "\n",
      "5. **Flexibility and Gradual Implementation**: Recognize that rapid changes may be resisted due to concerns over individual rights. Implementing gradual, flexible regulations allows for adaptation and ensures individuals maintain a sense of autonomy while contributing to the collective good. This could include phased approaches to emissions reductions or sustainable resource management.\n",
      "\n",
      "6. **Equitable Burden Sharing**: Ensure that the responsibilities and costs of environmental policies are distributed fairly. Vulnerable populations should not bear a disproportionate burden of environmental policies. It’s essential to incorporate equity into environmental governance to maintain social cohesion and garner broader support for collective actions.\n",
      "\n",
      "7. **Communicating the Urgency**: Address the potential consequences of inaction explicitly, making it clear how individual actions contribute to larger environmental issues. Establishing a clear cause-and-effect relationship between personal behavior and collective outcomes can motivate individuals to take action, seeing it as their responsibility to safeguard not only their rights but those of future generations.\n",
      "\n",
      "8. **Legal Frameworks for Accountability**: Create laws and regulations that define and enforce the boundaries of individual rights in the context of environmental protection. Legally codifying the obligation to protect the environment can delineate where individual rights may be limited to serve a greater good, such as regulations against pollution or deforestation.\n",
      "\n",
      "By integrating these strategies, policymakers can create a more harmonious relationship between individual rights and collective responsibility, fostering an environment where people feel empowered to act in the interest of both their personal freedoms and the greater ecological health of the planet.\n",
      "Competitor: claude-3-7-sonnet-latest\n",
      "\n",
      "# Reconciling Individual Rights and Collective Responsibility in Environmental Policy\n",
      "\n",
      "This tension presents one of the core challenges in environmental governance. Both principles have legitimate claims:\n",
      "\n",
      "**Individual rights** protect personal freedoms, property ownership, and economic autonomy that many consider fundamental.\n",
      "\n",
      "**Collective responsibility** recognizes that environmental harms affect shared resources and future generations, often requiring coordinated action.\n",
      "\n",
      "Some potential reconciliation approaches:\n",
      "\n",
      "1. **Rights-based environmental frameworks** that recognize both clean air/water as individual rights while acknowledging duties to others\n",
      "\n",
      "2. **Graduated regulatory approaches** that impose stricter limits on large-scale polluters while providing more flexibility for individuals\n",
      "\n",
      "3. **Market-based mechanisms** like carbon pricing that preserve choice while internalizing environmental costs\n",
      "\n",
      "4. **Democratic deliberation** to ensure affected communities have meaningful input in decisions that impact them\n",
      "\n",
      "5. **Intergenerational equity** principles that balance present autonomy with future needs\n",
      "\n",
      "The consequences of inaction often sharpen this tension, as delayed responses typically require more drastic interventions later. Finding this balance requires ongoing negotiation between competing values rather than a single universal solution.\n",
      "\n",
      "What aspects of this tension are you most interested in exploring?\n",
      "Competitor: llama-3.3-70b-versatile\n",
      "\n",
      "Reconciling the tension between individual rights and collective responsibility in the context of environmental policy requires a nuanced approach that balances competing interests and values. Here are some strategies to help reconcile this tension:\n",
      "\n",
      "1. **Education and awareness**: Educate individuals about the importance of environmental protection and the collective consequences of inaction. This can help build a sense of shared responsibility and encourage individuals to take personal actions that support environmental protection.\n",
      "2. **Regulatory frameworks**: Establish regulatory frameworks that balance individual rights with collective responsibility. For example, regulations can be put in place to limit pollution, protect natural resources, and promote sustainable practices, while also ensuring that individuals have access to the resources they need.\n",
      "3. **Economic incentives**: Implement economic incentives that encourage individuals and businesses to adopt environmentally friendly practices. For example, tax breaks, subsidies, or other financial incentives can be offered to individuals and businesses that invest in renewable energy, reduce waste, or implement sustainable practices.\n",
      "4. **Community engagement**: Foster community engagement and participation in environmental decision-making processes. This can help build a sense of ownership and responsibility among individuals and encourage them to take action to protect the environment.\n",
      "5. **Gradual transition**: Implement policies that allow for a gradual transition to more environmentally friendly practices. This can help reduce the economic and social impacts of environmental policies on individuals and businesses.\n",
      "6. **Phasing out harmful subsidies**: Eliminate or phase out subsidies that encourage environmentally harmful practices, such as fossil fuel subsidies. This can help level the playing field and create a more equitable environment for sustainable practices.\n",
      "7. **Carbon pricing**: Implement carbon pricing mechanisms, such as carbon taxes or cap-and-trade systems, to provide a financial incentive for individuals and businesses to reduce their greenhouse gas emissions.\n",
      "8. **Social safety nets**: Establish social safety nets to protect vulnerable populations from the potential negative impacts of environmental policies. For example, programs can be put in place to support low-income households or workers in industries that are heavily impacted by environmental regulations.\n",
      "9. **Transparency and accountability**: Ensure transparency and accountability in environmental decision-making processes. This can help build trust among individuals and communities and encourage them to take action to protect the environment.\n",
      "10. **International cooperation**: Encourage international cooperation and agreement on environmental policies. This can help address global environmental challenges and ensure that individual countries are not unfairly burdened by environmental regulations.\n",
      "\n",
      "Potential consequences of inaction on environmental policy include:\n",
      "\n",
      "1. **Climate change**: Failure to address climate change can lead to severe and irreversible consequences, including rising sea levels, more frequent natural disasters, and altered ecosystems.\n",
      "2. **Loss of biodiversity**: Inaction can result in the loss of biodiversity, which can have significant impacts on ecosystems, human health, and the economy.\n",
      "3. **Water scarcity**: Failure to protect and conserve water resources can lead to water scarcity, which can have significant impacts on human health, agriculture, and industry.\n",
      "4. **Air and water pollution**: Inaction can result in increased air and water pollution, which can have significant impacts on human health and the environment.\n",
      "5. **Economic costs**: Environmental degradation can have significant economic costs, including loss of productivity, damage to infrastructure, and impacts on human health.\n",
      "\n",
      "Ultimately, reconciling the tension between individual rights and collective responsibility in environmental policy requires a nuanced approach that balances competing interests and values. By implementing a range of strategies, including education, regulation, economic incentives, community engagement, and international cooperation, we can work towards a more sustainable and equitable future.\n",
      "Competitor: llama3.2\n",
      "\n",
      "Reconciling the tension between individual rights and collective responsibility in the context of environmental policy requires a nuanced approach that balances competing values and interests. Here are some key considerations:\n",
      "\n",
      "1. **Individual Rights**: Recognize the importance of individual freedoms and autonomy, which may be impacted by environmental regulations or policies. Ensure that individual rights are not unduly infringed upon while still addressing collective responsibilities.\n",
      "2. **Collective Responsibility**: Acknowledge the shared responsibility among individuals, communities, and governments for addressing environmental issues. Encourage a sense of shared citizenship and collective agency in promoting environmental protection.\n",
      "3. **Consensus-Based Decision-Making**: Foster inclusive and participatory decision-making processes that involve diverse stakeholders, including local communities, indigenous peoples, and civil society organizations. This can help build consensus on environmental policies and minimize opposition from marginalized groups.\n",
      "4. **Economic Incentives**: Implement economic incentives that discourage pollution and promote sustainable practices. For example, carbon pricing, pollution credits, or green taxes can provide financial benefits for individuals and businesses willing to adopt environmentally friendly practices.\n",
      "5. **Education and Awareness**: Educate the public about environmental issues, their consequences, and the necessary actions required to mitigate them. Encourage individual responsibility for reducing personal ecological footprint through simple changes like reducing energy consumption, using eco-friendly products, and adopting sustainable lifestyles.\n",
      "6. **Electioneering for Environmental Stewardship**: Emphasize the importance of environmental protection in election campaigns. Candidates should commit to promoting policies that consider both individual rights and collective responsibilities, ensuring a political consensus on environmental issues.\n",
      "7. **Legislative Frameworks**: Enact well-crafted laws that strike a balance between individual freedoms and collective responsibility. This can include measures such as strict regulations on pollution, access to green spaces, or restrictions on resource extraction.\n",
      "8. **Community Engagement and Empowerment**: Involve local communities in the decision-making process and empower them to participate in environmental policy development. This can help build trust, foster cooperative relationships, and drive behavioral change through community-driven initiatives.\n",
      "9. **Addressing Structural Barriers**: Identify and address structural barriers that prevent certain segments of society from participating evenly in environmental policies (e.g., lack of access to education, transportation infrastructure). Implement targeted support systems for disadvantaged groups to ensure inclusivity.\n",
      "10. **Emphasizing Global Interconnectedness**: Raise awareness about the global nature of environmental challenges, demonstrating that collective action is necessary to address these interconnected threats. This can help instill a sense of shared responsibility among nations and peoples.\n",
      "\n",
      "Balancing individual rights with collective responsibility requires ongoing dialogue, debate, and policy adjustments as new information emerges or perspectives shift. Environmental policy should strive for equilibrium between promoting civic participation, empowering marginalized voices, and addressing the pressing needs of future generations.\n",
      "\n",
      "For instance:\n",
      "\n",
      "Environmental policies that consider individual rights while embracing collective responsibilities can include measures such as:\n",
      "\n",
      "- Implementing extended producer responsibility in product design to enable reuse and recycling.\n",
      "- Introducing eco-taxes on polluting activities or non-renewable energy sources.\n",
      "- Developing green infrastructure, including parks and urban green spaces.\n",
      "- Encouraging climate resilience and natural infrastructure investments that benefit communities.\n",
      "- Supporting policies for resource-efficient practices.\n",
      "\n",
      "Ultimately, finding balance requires ongoing negotiation between the interests of various stakeholders. Ultimately addressing environmental challenges will require collaboration, inclusivity and recognition of both collective responsibility and individual rights.\n",
      "Competitor: llama3.2\n",
      "\n",
      "Reconciling the tension between individual rights and collective responsibility in the context of environmental policy is a complex issue. Here are some possible ways to address this tension:\n",
      "\n",
      "1. **Shared Responsibility**: Recognize that individual actions have an impact on the environment, but also acknowledge that societal and economic systems can perpetuate harmful practices. Collective action and shared responsibility can help mitigate these effects.\n",
      "2. **Interconnectedness**: Emphasize that environmental policies are not just about individual rights or collective responsibility, but also about interconnectedness between individuals, communities, and the natural world.\n",
      "3. **Gradualism**: Gradually increasing individual engagement in environmental efforts can foster a sense of responsibility while maintaining personal freedom. Encourage small actions, such as reducing single-use plastics or using public transportation.\n",
      "4. **Collaborative Policymaking**: Involve diverse stakeholders in policy-making to ensure that individual rights and collective responsibility are represented. This can include citizens' participation in decision-making processes.\n",
      "5. **Education and Awareness**: Educate the public about environmental issues, their impacts on individuals,\n",
      "Competitor: llama3.2\n",
      "\n",
      "Reconciling the tension between individual rights and collective responsibility in environmental policy is a complex challenge that requires careful consideration of ethics, economics, and politics. Here are some possible ways to address this tension:\n",
      "\n",
      "1. **Individual Rights vs. Collective Good**: In many cases, individual rights and freedoms may conflict with collective responsibilities for environmental protection. For example, the right to polluting activities (e.g., burning fossil fuels) may clash with the need to mitigate climate change. In these situations, policymakers must weigh individual interests against the greater good, considering factors such as economic benefits versus long-term consequences.\n",
      "2. **Distributive Justice**: Applying distributive justice principles can help reconcile individual rights and collective responsibility. This involves ensuring that the distribution of environmental burdens and benefits is fair across different communities, including vulnerable populations. For instance, policies like emissions trading schemes or carbon taxes aim to minimize harm on low-income households by allowing them to buy credits for excess emissions.\n",
      "3. **Cooperative Problem-Solving**: Encouraging cooperation between individuals, corporations, and governments can foster collective responsibility while respecting individual rights. Examples include community-based initiatives for waste management, sustainable agriculture practices, and decentralized renewable energy projects that empower local communities.\n",
      "4. **Public Education and Empowerment**: Raising public awareness about environmental issues and empowering individuals to make informed decisions can promote responsibility without infringing on individual freedoms. Educational programs, media campaigns, and online resources can encourage responsible choices and inspire grassroots movements.\n",
      "5. **Policy Design and Implementation**: Policymakers must design policies that strike a balance between individual rights and collective responsibility. This may involve addressing root causes of environmental degradation through long-term planning, social innovation, economic incentives, or regulation-based solutions.\n",
      "6. **Gradations of Restriction**: Implementing graduations of restriction on individual activities can help reconcile the conflict. For instance, regulating emissions from industrial sites could apply strict standards for smaller facilities while allowing smaller operations to adhere to lower thresholds, ensuring that economic development doesn't overly burden these entities.\n",
      "7. **Global Governance and International Cooperation**: The effects of environmental degradation often transcend national boundaries, necessitating global cooperation on policy coordination, regulations, and collective actions toward shared goals (e.g., avoiding catastrophic climate change).\n",
      "\n",
      "If inaction leads to devastating consequences for the environment or human health due to individual rights prioritization over collective responsibilities for ecological well-being, there are several options that can mitigate these impacts. Among them:\n",
      "\n",
      "1. **Compensation**: Governments could establish schemes to compensate individuals and communities displaced by environmental damage.\n",
      "2. **Economic Incentives**: Implementing policies like carbon taxes or regulations on toxic materials may provide economic incentives to transition toward more sustainable practices.\n",
      "3. **Social Safety Net**: Establishing social safety nets for vulnerable populations can mitigate the effects of environmental degradation on health, livelihoods, and well-being.\n",
      "\n",
      "Overall, resolving tensions between individual rights and collective responsibility requires an understanding of moral, legal, and ethical factors, along with careful design and implementation of policies that respect human rights while ensuring ecological sustainability.\n"
     ]
    }
   ],
   "source": [
    "# It's nice to know how to use \"zip\"\n",
    "for competitor, answer in zip(competitors, answers):\n",
    "    print(f\"Competitor: {competitor}\\n\\n{answer}\")\n"
   ]
  },
  {
   "cell_type": "code",
   "execution_count": 20,
   "metadata": {},
   "outputs": [],
   "source": [
    "# Let's bring this together - note the use of \"enumerate\"\n",
    "\n",
    "together = \"\"\n",
    "for index, answer in enumerate(answers):\n",
    "    together += f\"# Response from competitor {index+1}\\n\\n\"\n",
    "    together += answer + \"\\n\\n\""
   ]
  },
  {
   "cell_type": "code",
   "execution_count": 19,
   "metadata": {},
   "outputs": [
    {
     "ename": "NameError",
     "evalue": "name 'together' is not defined",
     "output_type": "error",
     "traceback": [
      "\u001b[31m---------------------------------------------------------------------------\u001b[39m",
      "\u001b[31mNameError\u001b[39m                                 Traceback (most recent call last)",
      "\u001b[36mCell\u001b[39m\u001b[36m \u001b[39m\u001b[32mIn[19]\u001b[39m\u001b[32m, line 1\u001b[39m\n\u001b[32m----> \u001b[39m\u001b[32m1\u001b[39m \u001b[38;5;28mprint\u001b[39m(\u001b[43mtogether\u001b[49m)\n",
      "\u001b[31mNameError\u001b[39m: name 'together' is not defined"
     ]
    }
   ],
   "source": [
    "print(together)"
   ]
  },
  {
   "cell_type": "code",
   "execution_count": 21,
   "metadata": {},
   "outputs": [],
   "source": [
    "judge = f\"\"\"You are judging a competition between {len(competitors)} competitors.\n",
    "Each model has been given this question:\n",
    "\n",
    "{question}\n",
    "\n",
    "Your job is to evaluate each response for clarity and strength of argument, and rank them in order of best to worst.\n",
    "Respond with JSON, and only JSON, with the following format:\n",
    "{{\"results\": [\"best competitor number\", \"second best competitor number\", \"third best competitor number\", ...]}}\n",
    "\n",
    "Here are the responses from each competitor:\n",
    "\n",
    "{together}\n",
    "\n",
    "Now respond with the JSON with the ranked order of the competitors, nothing else. Do not include markdown formatting or code blocks.\"\"\"\n"
   ]
  },
  {
   "cell_type": "code",
   "execution_count": 22,
   "metadata": {},
   "outputs": [
    {
     "name": "stdout",
     "output_type": "stream",
     "text": [
      "You are judging a competition between 3 competitors.\n",
      "Each model has been given this question:\n",
      "\n",
      "How would you assess the ethical implications of using artificial intelligence in decision-making processes, particularly in life-or-death situations, and what principles should guide the development of such systems?\n",
      "\n",
      "Your job is to evaluate each response for clarity and strength of argument, and rank them in order of best to worst.\n",
      "Respond with JSON, and only JSON, with the following format:\n",
      "{\"results\": [\"best competitor number\", \"second best competitor number\", \"third best competitor number\", ...]}\n",
      "\n",
      "Here are the responses from each competitor:\n",
      "\n",
      "# Response from competitor 1\n",
      "\n",
      "Assessing the ethical implications of using artificial intelligence (AI) in decision-making processes, especially those involving life-or-death situations, is a complex challenge that necessitates a careful and multifaceted approach. Several key principles and considerations should guide the development and deployment of AI systems in these critical contexts:\n",
      "\n",
      "### Ethical Implications\n",
      "\n",
      "1. **Autonomy and Control**: AI systems must respect human autonomy. In life-or-death situations, the decisions made by AI should support human agency rather than replace it. Individuals should be informed and able to understand and contest the decisions being made.\n",
      "\n",
      "2. **Transparency and Explainability**: AI decision-making processes should be transparent. Those affected by AI systems must have access to explanations for the decisions made, which is particularly important in high-stakes situations. This involves striving for explainability in AI algorithms, where stakeholders can understand how outcomes are derived.\n",
      "\n",
      "3. **Accountability**: Establishing clear lines of accountability is crucial. In life-or-death decisions, it should be unequivocally clear who is responsible for the outcomes of using AI systems. This includes designers, operators, and entities deploying the technology.\n",
      "\n",
      "4. **Fairness and Non-discrimination**: AI systems must be designed to mitigate bias and ensure equitable treatment across different groups. Care must be taken to assess how diverse datasets influence AI outcomes, particularly to avoid exacerbating existing inequalities in healthcare, law enforcement, etc.\n",
      "\n",
      "5. **Robustness and Safety**: AI systems must be reliable and safe to operate. In critical fields, extensive testing and validation processes are essential to ensure algorithms perform accurately under various scenarios and cannot be easily manipulated or misused.\n",
      "\n",
      "6. **Privacy and Data Protection**: Protecting the privacy of individuals whose data is used for training and deploying AI systems is vital. Especially in health-related AI, maintaining strict data handling protocols is necessary to protect sensitive information.\n",
      "\n",
      "7. **Human Oversight**: There should always be a mechanism for human oversight in AI decision-making processes, especially where the stakes are high. Human-in-the-loop (HITL) approaches can help ensure that human judgment is integrated into automated processes.\n",
      "\n",
      "8. **Ethical Programming**: AI systems should be programmed with ethical considerations in mind. This might include establishing ethical frameworks or guidelines that inform AI behavior and decision rules.\n",
      "\n",
      "### Guiding Principles for Development\n",
      "\n",
      "1. **Human-Centric Design**: Prioritize the needs and well-being of people in the design and implementation of AI systems.\n",
      "\n",
      "2. **Interdisciplinary Collaboration**: Involve ethicists, sociologists, legal experts, and domain specialists in the development of AI applications meant for life-or-death situations to ensure a comprehensive perspective on ethical implications.\n",
      "\n",
      "3. **Ongoing Evaluation**: Implement feedback loops for continuous evaluation and improvement of AI systems based on their real-world performance and ethical compliance.\n",
      "\n",
      "4. **Stakeholder Engagement**: Engage various stakeholders, including communities affected by the AI decisions, in conversations about the technology's implications and governance.\n",
      "\n",
      "5. **Regulatory Frameworks**: Support and adhere to regulatory guidelines that govern the ethical deployment of AI in critical applications, ensuring that frameworks are adaptive to evolving technologies.\n",
      "\n",
      "6. **Commitment to Public Good**: Foster a commitment to using AI for public good, emphasizing transparency, accountability, and a focus on socio-economic benefits over profit-driven motives.\n",
      "\n",
      "In conclusion, the integration of AI in life-or-death decision-making poses profound ethical considerations that demand a principled, transparent, and human-centered approach. It is critical to ensure that such systems uphold human dignity, promote justice, and operate with accountability to minimize risks and maximize benefits to society.\n",
      "\n",
      "# Response from competitor 2\n",
      "\n",
      "# AI Ethics in Life-or-Death Decision Making\n",
      "\n",
      "The ethical implications of AI in life-or-death decisions are profound and multifaceted:\n",
      "\n",
      "## Key Concerns\n",
      "- **Accountability gaps**: When AI makes fatal errors, responsibility becomes unclear\n",
      "- **Algorithmic bias**: Historical biases in training data may perpetuate discrimination\n",
      "- **Transparency limitations**: \"Black box\" systems make justification of critical decisions difficult\n",
      "- **Human autonomy**: People may lose meaningful control over significant decisions\n",
      "- **Value alignment**: AI systems may not fully capture human moral complexity\n",
      "\n",
      "## Guiding Principles\n",
      "- **Human oversight**: Maintain human supervision and override capabilities\n",
      "- **Explainability**: Decision processes must be interpretable, especially for consequential outcomes\n",
      "- **Continuous validation**: Regular testing across diverse populations and scenarios\n",
      "- **Distributive justice**: Benefits and risks should be fairly distributed\n",
      "- **Reversibility**: Ability to undo or mitigate harmful decisions when possible\n",
      "\n",
      "I believe these systems demand exceptional scrutiny because they represent a fundamental shift in how life-or-death authority is delegated in society. What specific applications of AI in critical decision-making are you most concerned about?\n",
      "\n",
      "# Response from competitor 3\n",
      "\n",
      "Assessing the ethical implications of using artificial intelligence (AI) in decision-making processes, particularly in life-or-death situations, is a complex and multifaceted issue. Here are some key considerations and principles that should guide the development of such systems:\n",
      "\n",
      "**Ethical Concerns:**\n",
      "\n",
      "1. **Bias and fairness**: AI systems can perpetuate existing biases and discrimination if they are trained on biased data or designed with a particular worldview. This can lead to unfair outcomes, particularly in situations where human lives are at stake.\n",
      "2. **Accountability and transparency**: AI systems can be opaque, making it difficult to understand the decision-making process and identify potential errors or biases. This lack of transparency can undermine trust and accountability.\n",
      "3. **Value alignment**: AI systems may not share human values, such as empathy, compassion, or a respect for human life. This can lead to decisions that are not aligned with human values, particularly in life-or-death situations.\n",
      "4. **Autonomy and agency**: As AI systems become more autonomous, there is a risk that they will make decisions without human oversight or input, potentially leading to unintended consequences.\n",
      "5. **Liability and responsibility**: As AI systems play a greater role in decision-making, there is a need to establish clear lines of liability and responsibility in the event of errors or adverse outcomes.\n",
      "\n",
      "**Principles for Development:**\n",
      "\n",
      "1. **Human-centered design**: AI systems should be designed with human values and needs in mind, including empathy, compassion, and respect for human life.\n",
      "2. **Transparency and explainability**: AI systems should be designed to be transparent and explainable, providing clear insights into the decision-making process and any potential biases or errors.\n",
      "3. **Accountability and oversight**: AI systems should be designed with robust oversight and accountability mechanisms, including human review and approval processes.\n",
      "4. **Value alignment**: AI systems should be designed to align with human values and principles, including respect for human life, dignity, and autonomy.\n",
      "5. **Continuous monitoring and evaluation**: AI systems should be continuously monitored and evaluated to ensure that they are functioning as intended and that any errors or biases are quickly identified and addressed.\n",
      "6. **Regulatory frameworks**: Regulatory frameworks should be established to govern the development and deployment of AI systems, including guidelines for transparency, accountability, and human oversight.\n",
      "7. **Public engagement and participation**: The development and deployment of AI systems should involve public engagement and participation, ensuring that the needs and concerns of diverse stakeholders are taken into account.\n",
      "\n",
      "**Life-or-Death Situations:**\n",
      "\n",
      "1. **Human oversight**: In life-or-death situations, human oversight and review should always be present to ensure that AI decisions are aligned with human values and principles.\n",
      "2. **Redundancy and backup systems**: Redundancy and backup systems should be in place to prevent errors or system failures that could have catastrophic consequences.\n",
      "3. **Clear decision-making protocols**: Clear decision-making protocols should be established, including guidelines for AI system operation and human intervention in the event of errors or adverse outcomes.\n",
      "4. **Continuous learning and improvement**: AI systems should be designed to learn from experience and improve their performance over time, particularly in high-stakes situations.\n",
      "\n",
      "Ultimately, the development and deployment of AI systems in decision-making processes, particularly in life-or-death situations, require careful consideration of the ethical implications and adherence to guiding principles that prioritize human values, transparency, accountability, and safety.\n",
      "\n",
      "\n",
      "\n",
      "Now respond with the JSON with the ranked order of the competitors, nothing else. Do not include markdown formatting or code blocks.\n"
     ]
    }
   ],
   "source": [
    "print(judge)"
   ]
  },
  {
   "cell_type": "code",
   "execution_count": 23,
   "metadata": {},
   "outputs": [],
   "source": [
    "judge_messages = [{\"role\": \"user\", \"content\": judge}]"
   ]
  },
  {
   "cell_type": "code",
   "execution_count": 24,
   "metadata": {},
   "outputs": [
    {
     "name": "stdout",
     "output_type": "stream",
     "text": [
      "{\"results\": [\"1\", \"3\", \"2\"]}\n"
     ]
    }
   ],
   "source": [
    "# Judgement time!\n",
    "\n",
    "openai = OpenAI()\n",
    "response = openai.chat.completions.create(\n",
    "    model=\"o3-mini\", ##Is comparing O3-mini to 4.0 chat, it also isnt' sure which one it's actually reviewing since it indexed.\n",
    "    messages=judge_messages,\n",
    ")\n",
    "results = response.choices[0].message.content\n",
    "print(results)\n"
   ]
  },
  {
   "cell_type": "markdown",
   "metadata": {},
   "source": [
    "#THis is judgement and evaulation flow comparison to have chat Verify with itself"
   ]
  },
  {
   "cell_type": "code",
   "execution_count": 25,
   "metadata": {},
   "outputs": [
    {
     "name": "stdout",
     "output_type": "stream",
     "text": [
      "Rank 1: gpt-4o-mini\n",
      "Rank 2: llama-3.3-70b-versatile\n",
      "Rank 3: claude-3-7-sonnet-latest\n"
     ]
    }
   ],
   "source": [
    "# OK let's turn this into results!\n",
    "\n",
    "results_dict = json.loads(results)\n",
    "ranks = results_dict[\"results\"]\n",
    "for index, result in enumerate(ranks):\n",
    "    competitor = competitors[int(result)-1]\n",
    "    print(f\"Rank {index+1}: {competitor}\")"
   ]
  },
  {
   "cell_type": "markdown",
   "metadata": {},
   "source": [
    "<table style=\"margin: 0; text-align: left; width:100%\">\n",
    "    <tr>\n",
    "        <td style=\"width: 150px; height: 150px; vertical-align: middle;\">\n",
    "            <img src=\"../assets/exercise.png\" width=\"150\" height=\"150\" style=\"display: block;\" />\n",
    "        </td>\n",
    "        <td>\n",
    "            <h2 style=\"color:#ff7800;\">Exercise</h2>\n",
    "            <span style=\"color:#ff7800;\">Which pattern(s) did this use? Try updating this to add another Agentic design pattern.\n",
    "            </span>\n",
    "        </td>\n",
    "    </tr>\n",
    "</table>"
   ]
  },
  {
   "cell_type": "markdown",
   "metadata": {},
   "source": [
    "<table style=\"margin: 0; text-align: left; width:100%\">\n",
    "    <tr>\n",
    "        <td style=\"width: 150px; height: 150px; vertical-align: middle;\">\n",
    "            <img src=\"../assets/business.png\" width=\"150\" height=\"150\" style=\"display: block;\" />\n",
    "        </td>\n",
    "        <td>\n",
    "            <h2 style=\"color:#00bfff;\">Commercial implications</h2>\n",
    "            <span style=\"color:#00bfff;\">These kinds of patterns - to send a task to multiple models, and evaluate results,\n",
    "            are common where you need to improve the quality of your LLM response. This approach can be universally applied\n",
    "            to business projects where accuracy is critical.\n",
    "            </span>\n",
    "        </td>\n",
    "    </tr>\n",
    "</table>"
   ]
  }
 ],
 "metadata": {
  "kernelspec": {
   "display_name": ".venv",
   "language": "python",
   "name": "python3"
  },
  "language_info": {
   "codemirror_mode": {
    "name": "ipython",
    "version": 3
   },
   "file_extension": ".py",
   "mimetype": "text/x-python",
   "name": "python",
   "nbconvert_exporter": "python",
   "pygments_lexer": "ipython3",
   "version": "3.12.11"
  }
 },
 "nbformat": 4,
 "nbformat_minor": 2
}

{
 "cells": [
  {
   "cell_type": "markdown",
   "metadata": {},
   "source": [
    "# Welcome to the start of your adventure in Agentic AI"
   ]
  },
  {
   "cell_type": "markdown",
   "metadata": {},
   "source": [
    "<table style=\"margin: 0; text-align: left; width:100%\">\n",
    "    <tr>\n",
    "        <td style=\"width: 150px; height: 150px; vertical-align: middle;\">\n",
    "            <img src=\"../assets/stop.png\" width=\"150\" height=\"150\" style=\"display: block;\" />\n",
    "        </td>\n",
    "        <td>\n",
    "            <h2 style=\"color:#ff7800;\">Are you ready for action??</h2>\n",
    "            <span style=\"color:#ff7800;\">Have you completed all the setup steps in the <a href=\"../setup/\">setup</a> folder?<br/>\n",
    "            Have you checked out the guides in the <a href=\"../guides/01_intro.ipynb\">guides</a> folder?<br/>\n",
    "            Well in that case, you're ready!!\n",
    "            </span>\n",
    "        </td>\n",
    "    </tr>\n",
    "</table>"
   ]
  },
  {
   "cell_type": "markdown",
   "metadata": {},
   "source": [
    "<table style=\"margin: 0; text-align: left; width:100%\">\n",
    "    <tr>\n",
    "        <td style=\"width: 150px; height: 150px; vertical-align: middle;\">\n",
    "            <img src=\"../assets/tools.png\" width=\"150\" height=\"150\" style=\"display: block;\" />\n",
    "        </td>\n",
    "        <td>\n",
    "            <h2 style=\"color:#00bfff;\">This code is a live resource - keep an eye out for my updates</h2>\n",
    "            <span style=\"color:#00bfff;\">I push updates regularly. As people ask questions or have problems, I add more examples and improve explanations. As a result, the code below might not be identical to the videos, as I've added more steps and better comments. Consider this like an interactive book that accompanies the lectures.<br/><br/>\n",
    "            I try to send emails regularly with important updates related to the course. You can find this in the 'Announcements' section of Udemy in the left sidebar. You can also choose to receive my emails via your Notification Settings in Udemy. I'm respectful of your inbox and always try to add value with my emails!\n",
    "            </span>\n",
    "        </td>\n",
    "    </tr>\n",
    "</table>"
   ]
  },
  {
   "cell_type": "markdown",
   "metadata": {},
   "source": [
    "### And please do remember to contact me if I can help\n",
    "\n",
    "And I love to connect: https://www.linkedin.com/in/eddonner/\n",
    "\n",
    "\n",
    "### New to Notebooks like this one? Head over to the guides folder!\n",
    "\n",
    "Just to check you've already added the Python and Jupyter extensions to Cursor, if not already installed:\n",
    "- Open extensions (View >> extensions)\n",
    "- Search for python, and when the results show, click on the ms-python one, and Install it if not already installed\n",
    "- Search for jupyter, and when the results show, click on the Microsoft one, and Install it if not already installed  \n",
    "Then View >> Explorer to bring back the File Explorer.\n",
    "\n",
    "And then:\n",
    "1. Click where it says \"Select Kernel\" near the top right, and select the option called `.venv (Python 3.12.9)` or similar, which should be the first choice or the most prominent choice. You may need to choose \"Python Environments\" first.\n",
    "2. Click in each \"cell\" below, starting with the cell immediately below this text, and press Shift+Enter to run\n",
    "3. Enjoy!\n",
    "\n",
    "After you click \"Select Kernel\", if there is no option like `.venv (Python 3.12.9)` then please do the following:  \n",
    "1. On Mac: From the Cursor menu, choose Settings >> VS Code Settings (NOTE: be sure to select `VSCode Settings` not `Cursor Settings`);  \n",
    "On Windows PC: From the File menu, choose Preferences >> VS Code Settings(NOTE: be sure to select `VSCode Settings` not `Cursor Settings`)  \n",
    "2. In the Settings search bar, type \"venv\"  \n",
    "3. In the field \"Path to folder with a list of Virtual Environments\" put the path to the project root, like C:\\Users\\username\\projects\\agents (on a Windows PC) or /Users/username/projects/agents (on Mac or Linux).  \n",
    "And then try again.\n",
    "\n",
    "Having problems with missing Python versions in that list? Have you ever used Anaconda before? It might be interferring. Quit Cursor, bring up a new command line, and make sure that your Anaconda environment is deactivated:    \n",
    "`conda deactivate`  \n",
    "And if you still have any problems with conda and python versions, it's possible that you will need to run this too:  \n",
    "`conda config --set auto_activate_base false`  \n",
    "and then from within the Agents directory, you should be able to run `uv python list` and see the Python 3.12 version."
   ]
  },
  {
   "cell_type": "code",
   "execution_count": 14,
   "metadata": {},
   "outputs": [],
   "source": [
    "# First let's do an import\n",
    "from dotenv import load_dotenv\n"
   ]
  },
  {
   "cell_type": "code",
   "execution_count": 15,
   "metadata": {},
   "outputs": [
    {
     "data": {
      "text/plain": [
       "True"
      ]
     },
     "execution_count": 15,
     "metadata": {},
     "output_type": "execute_result"
    }
   ],
   "source": [
    "# Next it's time to load the API keys into environment variables\n",
    "\n",
    "load_dotenv(override=True)\n"
   ]
  },
  {
   "cell_type": "markdown",
   "metadata": {},
   "source": [
    "### Wait, did that just output `False`??\n",
    "\n",
    "If so, the most common reason is that you didn't save your `.env` file after adding the key! Be sure to have saved.\n",
    "\n",
    "Also, make sure the `.env` file is named precisely `.env` and is in the project root directory (`agents`)\n",
    "\n",
    "By the way, your `.env` file should have a stop symbol next to it in Cursor on the left, and that's actually a good thing: that's Cursor saying to you, \"hey, I realize this is a file filled with secret information, and I'm not going to send it to an external AI to suggest changes, because your keys should not be shown to anyone else.\""
   ]
  },
  {
   "cell_type": "markdown",
   "metadata": {},
   "source": [
    "<table style=\"margin: 0; text-align: left; width:100%\">\n",
    "    <tr>\n",
    "        <td style=\"width: 150px; height: 150px; vertical-align: middle;\">\n",
    "            <img src=\"../assets/stop.png\" width=\"150\" height=\"150\" style=\"display: block;\" />\n",
    "        </td>\n",
    "        <td>\n",
    "            <h2 style=\"color:#ff7800;\">Final reminders</h2>\n",
    "            <span style=\"color:#ff7800;\">1. If you're not confident about Environment Variables or Web Endpoints / APIs, please read Topics 3 and 5 in this <a href=\"../guides/04_technical_foundations.ipynb\">technical foundations guide</a>.<br/>\n",
    "            2. If you want to use AIs other than OpenAI, like Gemini, DeepSeek or Ollama (free), please see the first section in this <a href=\"../guides/09_ai_apis_and_ollama.ipynb\">AI APIs guide</a>.<br/>\n",
    "            3. If you ever get a Name Error in Python, you can always fix it immediately; see the last section of this <a href=\"../guides/06_python_foundations.ipynb\">Python Foundations guide</a> and follow both tutorials and exercises.<br/>\n",
    "            </span>\n",
    "        </td>\n",
    "    </tr>\n",
    "</table>"
   ]
  },
  {
   "cell_type": "code",
   "execution_count": 16,
   "metadata": {},
   "outputs": [
    {
     "name": "stdout",
     "output_type": "stream",
     "text": [
      "OpenAI API exists and begins sk-proj-\n"
     ]
    }
   ],
   "source": [
    "import os\n",
    "openai_api_key = os.getenv(\"OPENAI_API_KEY\")\n",
    "\n",
    "if openai_api_key:\n",
    "    print(f\"OpenAI API exists and begins {openai_api_key[:8]}\")\n",
    "else:\n",
    "    print(\"OpenAI API key not set - please head to the troubleshooting guide\")\n",
    "\n",
    "\n",
    "\n",
    "\n",
    "\n",
    "\n",
    "\n"
   ]
  },
  {
   "cell_type": "code",
   "execution_count": 17,
   "metadata": {},
   "outputs": [],
   "source": [
    "# And now - the all important import statement\n",
    "# If you get an import error - head over to troubleshooting in the Setup folder\n",
    "# If you get a Name Error - head over to Python Foundations guide (guide 6)\n",
    "\n",
    "from openai import OpenAI"
   ]
  },
  {
   "cell_type": "code",
   "execution_count": 18,
   "metadata": {},
   "outputs": [],
   "source": [
    "# And now we'll create an instance of the OpenAI class\n",
    "# If you're not sure what it means to create an instance of a class - head over to the guides folder (guide 6)!\n",
    "# If you get a NameError - head over to the guides folder (guide 6)to learn about NameErrors - always instantly fixable\n",
    "# If you're not using OpenAI, you just need to slightly modify this - precise instructions are in the AI APIs guide (guide 9)\n",
    "## Creates the client libarry class\n",
    "openai = OpenAI()\n"
   ]
  },
  {
   "cell_type": "code",
   "execution_count": 7,
   "metadata": {},
   "outputs": [],
   "source": [
    "# Create a list of messages in the familiar OpenAI format\n",
    "\n",
    "messages = [{\"role\": \"user\", \"content\": \"What is (9x2)+1?\"}]"
   ]
  },
  {
   "cell_type": "code",
   "execution_count": 19,
   "metadata": {},
   "outputs": [
    {
     "name": "stdout",
     "output_type": "stream",
     "text": [
      "Let's analyze the problem step-by-step:\n",
      "\n",
      "**Given:**\n",
      "- 5 machines take 5 minutes to make 5 widgets.\n",
      "\n",
      "**Find:**\n",
      "- How long would 100 machines take to make 100 widgets?\n",
      "\n",
      "---\n",
      "\n",
      "### Step 1: Determine the rate of one machine\n",
      "\n",
      "Since 5 machines make 5 widgets in 5 minutes:\n",
      "\n",
      "- Total widgets per 5 minutes: 5 widgets\n",
      "- Number of machines: 5\n",
      "\n",
      "**Widgets produced per machine in 5 minutes:**\n",
      "\\[\n",
      "\\frac{5 \\text{ widgets}}{5 \\text{ machines}} = 1 \\text{ widget per machine in 5 minutes}\n",
      "\\]\n",
      "\n",
      "**Therefore:**\n",
      "- Each machine makes 1 widget in 5 minutes.\n",
      "\n",
      "---\n",
      "\n",
      "### Step 2: Find the rate per machine per minute\n",
      "\n",
      "- Each machine makes 1 widget in 5 minutes\n",
      "- Rate per machine:\n",
      "\\[\n",
      "\\frac{1 \\text{ widget}}{5 \\text{ minutes}} = 0.2 \\text{ widgets per minute}\n",
      "\\]\n",
      "\n",
      "---\n",
      "\n",
      "### Step 3: Determine how many minutes for 100 machines to produce 100 widgets\n",
      "\n",
      "- Total widgets needed: 100\n",
      "- Number of machines: 100\n",
      "- Total production rate:\n",
      "\\[\n",
      "100 \\text{ machines} \\times 0.2 \\text{ widgets per minute} = 20 \\text{ widgets per minute}\n",
      "\\]\n",
      "\n",
      "**Time to make 100 widgets:**\n",
      "\n",
      "\\[\n",
      "\\frac{100 \\text{ widgets}}{20 \\text{ widgets per minute}} = 5 \\text{ minutes}\n",
      "\\]\n",
      "\n",
      "---\n",
      "\n",
      "## **Final answer:**\n",
      "\n",
      "**It would take 100 machines 5 minutes to make 100 widgets.**\n"
     ]
    }
   ],
   "source": [
    "# And now call it! Any problems, head to the troubleshooting guide\n",
    "# This uses GPT 4.1 nano, the incredibly cheap model\n",
    "# The APIs guide (guide 9) has exact instructions for using even cheaper or free alternatives to OpenAI\n",
    "\n",
    "response = openai.chat.completions.create(\n",
    "    model=\"gpt-4.1-nano\",\n",
    "    messages=messages\n",
    ")\n",
    "\n",
    "print(response.choices[0].message.content)\n"
   ]
  },
  {
   "cell_type": "code",
   "execution_count": 9,
   "metadata": {},
   "outputs": [],
   "source": [
    "# And now - let's ask for a question:\n",
    "\n",
    "question = \"Please propose a hard, challenging question to assess someone's IQ. Respond only with the question.\"\n",
    "messages = [{\"role\": \"user\", \"content\": question}]\n"
   ]
  },
  {
   "cell_type": "code",
   "execution_count": 10,
   "metadata": {},
   "outputs": [
    {
     "name": "stdout",
     "output_type": "stream",
     "text": [
      "If five machines take five minutes to make five widgets, how long would 100 machines take to make 100 widgets?\n"
     ]
    }
   ],
   "source": [
    "# ask it - this uses GPT 4.1 mini, still cheap but more powerful than nano\n",
    "\n",
    "response = openai.chat.completions.create(\n",
    "    model=\"gpt-4.1-mini\",\n",
    "    messages=messages\n",
    ")\n",
    "\n",
    "question = response.choices[0].message.content\n",
    "\n",
    "print(question)\n"
   ]
  },
  {
   "cell_type": "code",
   "execution_count": 20,
   "metadata": {},
   "outputs": [],
   "source": [
    "# form a new messages list\n",
    "messages = [{\"role\": \"user\", \"content\": question}]\n"
   ]
  },
  {
   "cell_type": "code",
   "execution_count": 21,
   "metadata": {},
   "outputs": [
    {
     "name": "stdout",
     "output_type": "stream",
     "text": [
      "Let's analyze the problem step-by-step:\n",
      "\n",
      "- **Given:**  \n",
      "  5 machines take 5 minutes to make 5 widgets.\n",
      "\n",
      "- This means that **5 machines make 5 widgets in 5 minutes**.\n",
      "\n",
      "- Therefore, the rate per machine is:\n",
      "  - 5 widgets / 5 machines = 1 widget made by 1 machine in 5 minutes.\n",
      "\n",
      "- So, **1 machine makes 1 widget in 5 minutes.**\n",
      "\n",
      "---\n",
      "\n",
      "Now, the question:\n",
      "\n",
      "- How long would 100 machines take to make 100 widgets?\n",
      "\n",
      "Since 1 machine makes 1 widget in 5 minutes, then 100 machines would also make 100 widgets in the same 5 minutes (assuming they work in parallel).\n",
      "\n",
      "---\n",
      "\n",
      "**Answer:**\n",
      "\n",
      "**5 minutes.**\n"
     ]
    }
   ],
   "source": [
    "# Ask it again\n",
    "\n",
    "response = openai.chat.completions.create(\n",
    "    model=\"gpt-4.1-mini\",\n",
    "    messages=messages\n",
    ")\n",
    "\n",
    "answer = response.choices[0].message.content\n",
    "print(answer)\n"
   ]
  },
  {
   "cell_type": "code",
   "execution_count": 13,
   "metadata": {},
   "outputs": [
    {
     "data": {
      "text/markdown": [
       "Let's analyze the problem step-by-step:\n",
       "\n",
       "- **Given:**  \n",
       "  5 machines take 5 minutes to make 5 widgets.\n",
       "\n",
       "From this, we can find the rate of widget production per machine.\n",
       "\n",
       "1. **Calculate the rate per machine:**\n",
       "\n",
       "   Since 5 machines make 5 widgets in 5 minutes, the total production rate is:\n",
       "   \\[\n",
       "   \\frac{5 \\text{ widgets}}{5 \\text{ minutes}} = 1 \\text{ widget per minute (total for all 5 machines)}\n",
       "   \\]\n",
       "\n",
       "   Therefore, each machine produces:\n",
       "   \\[\n",
       "   \\frac{1 \\text{ widget per minute}}{5 \\text{ machines}} = \\frac{1}{5} \\text{ widget per minute per machine}\n",
       "   \\]\n",
       "\n",
       "2. **Calculate how long 100 machines take to make 100 widgets:**\n",
       "\n",
       "   Total production rate with 100 machines:\n",
       "   \\[\n",
       "   100 \\text{ machines} \\times \\frac{1}{5} = 20 \\text{ widgets per minute}\n",
       "   \\]\n",
       "\n",
       "   To produce 100 widgets at 20 widgets per minute:\n",
       "   \\[\n",
       "   \\frac{100 \\text{ widgets}}{20 \\text{ widgets per minute}} = 5 \\text{ minutes}\n",
       "   \\]\n",
       "\n",
       "**Answer:** It would take 100 machines **5 minutes** to make 100 widgets."
      ],
      "text/plain": [
       "<IPython.core.display.Markdown object>"
      ]
     },
     "metadata": {},
     "output_type": "display_data"
    }
   ],
   "source": [
    "from IPython.display import Markdown, display\n",
    "\n",
    "display(Markdown(answer))\n",
    "\n"
   ]
  },
  {
   "cell_type": "markdown",
   "metadata": {},
   "source": [
    "# Congratulations!\n",
    "\n",
    "That was a small, simple step in the direction of Agentic AI, with your new environment!\n",
    "\n",
    "Next time things get more interesting..."
   ]
  },
  {
   "cell_type": "markdown",
   "metadata": {},
   "source": [
    "<table style=\"margin: 0; text-align: left; width:100%\">\n",
    "    <tr>\n",
    "        <td style=\"width: 150px; height: 150px; vertical-align: middle;\">\n",
    "            <img src=\"../assets/exercise.png\" width=\"150\" height=\"150\" style=\"display: block;\" />\n",
    "        </td>\n",
    "        <td>\n",
    "            <h2 style=\"color:#ff7800;\">Exercise</h2>\n",
    "            <span style=\"color:#ff7800;\">Now try this commercial application:<br/>\n",
    "            First ask the LLM to pick a business area that might be worth exploring for an Agentic AI opportunity.<br/>\n",
    "            Then ask the LLM to present a pain-point in that industry - something challenging that might be ripe for an Agentic solution.<br/>\n",
    "            Finally have 3 third LLM call propose the Agentic AI solution. <br/>\n",
    "            We will cover this at up-coming labs, so don't worry if you're unsure.. just give it a try!\n",
    "            </span>\n",
    "        </td>\n",
    "    </tr>\n",
    "</table>"
   ]
  },
  {
   "cell_type": "markdown",
   "metadata": {},
   "source": [
    "## IT works, below is a Prompt that provides a solution for Wedding Planning Pain Points ##\n"
   ]
  },
  {
   "cell_type": "code",
   "execution_count": 22,
   "metadata": {},
   "outputs": [
    {
     "name": "stdout",
     "output_type": "stream",
     "text": [
      "Wedding planning can be challenging for the average person for several reasons:\n",
      "\n",
      "1. **Complex Coordination:** Weddings involve coordinating many different vendors (caterers, venues, photographers, florists, musicians, etc.), schedules, and logistics, which can be overwhelming.\n",
      "2. **Time-Consuming:** Planning a wedding requires a significant time investment to research options, negotiate contracts, and manage details.\n",
      "3. **Budget Management:** Balancing desires with a realistic budget is often stressful, especially when unexpected costs arise.\n",
      "4. **Emotional Pressure:** Weddings are emotionally charged events; managing the expectations of families, friends, and the couple themselves can add stress.\n",
      "5. **Lack of Experience:** Many people have limited knowledge of the wedding industry, which can make decision-making and troubleshooting difficult.\n",
      "6. **Detail Orientation:** Weddings involve numerous small details that all need to come together perfectly, which can be difficult to track and manage.\n",
      "\n",
      "**Benefits of Hiring a Wedding Planner:**\n",
      "\n",
      "- **Expertise:** Wedding planners have industry knowledge and experience, which helps in making informed decisions and avoiding common pitfalls.\n",
      "- **Time-Saving:** Planners handle vendor coordination, appointments, and logistics, freeing up the couple’s time.\n",
      "- **Stress Reduction:** They manage details and troubleshooting, reducing stress and allowing the couple to enjoy the process.\n",
      "- **Vendor Connections:** Planners often have established relationships with reliable vendors and can secure better deals or quality services.\n",
      "- **Budget Management:** Experienced planners help allocate budget efficiently, preventing overspending and hidden costs.\n",
      "- **Creative Input:** They offer design and theme ideas to create a cohesive and personalized wedding.\n",
      "- **Day-of Coordination:** Planners oversee the wedding day timeline and execution, ensuring everything runs smoothly.\n",
      "\n",
      "Overall, hiring a wedding planner can transform a potentially overwhelming process into a more enjoyable and organized experience.\n"
     ]
    }
   ],
   "source": [
    "# First create the messages:\n",
    "commercialquestions = \"Why is wedding planning hard for the average person? What are benefits of hiring a wedding planner?\"\n",
    "messages = [{\"role\": \"user\", \"content\": commercialquestions}]\n",
    "\n",
    "# Then make the first call:\n",
    "\n",
    "response1 = openai.chat.completions.create(\n",
    "    model=\"gpt-4.1-mini\",\n",
    "    messages=messages\n",
    ")\n",
    "\n",
    "# Then read the business idea:\n",
    "# print(response1.choices[0].message.content)\n",
    "response1 = response1.choices[0].message.content\n",
    "print(response1)\n"
   ]
  },
  {
   "cell_type": "markdown",
   "metadata": {},
   "source": []
  },
  {
   "cell_type": "code",
   "execution_count": 22,
   "metadata": {},
   "outputs": [
    {
     "name": "stdout",
     "output_type": "stream",
     "text": [
      "Certainly! Below is a simple business plan outline for a wedding planning service that incorporates **Agentic AI** to solve the common pain points faced by couples during wedding planning.\n",
      "\n",
      "---\n",
      "\n",
      "# Business Plan: AI-Enhanced Wedding Planning Service\n",
      "\n",
      "## 1. Executive Summary  \n",
      "Our company, **WedSmart**, leverages Agentic AI technology to provide a comprehensive, smart, and personalized wedding planning assistant. WedSmart aims to transform the often overwhelming wedding planning process into a seamless, efficient, and enjoyable journey for couples by automating coordination, decision-making support, budgeting, and vendor management.\n",
      "\n",
      "---\n",
      "\n",
      "## 2. Business Objectives  \n",
      "- To simplify wedding planning by automating complex coordination tasks using Agentic AI.  \n",
      "- To reduce time and emotional stress for couples through intelligent task management and reminders.  \n",
      "- To provide budget tracking and optimization using AI-driven financial insights.  \n",
      "- To offer creative design suggestions personalized to the couple’s preferences.  \n",
      "- To provide real-time day-of coordination support via AI and human planners.\n",
      "\n",
      "---\n",
      "\n",
      "## 3. Market Analysis  \n",
      "- Target Market: Engaged couples aged 22-40 who want a personalized, modern, and tech-savvy approach to planning weddings.  \n",
      "- Market Size: Millions of weddings annually worldwide, with increasing adoption of technology in event planning.  \n",
      "- Competitors: Traditional wedding planners, DIY apps, and generic wedding planning software. Our AI-driven personalized approach differentiates us.\n",
      "\n",
      "---\n",
      "\n",
      "## 4. Service Offering  \n",
      "### Core Product: WedSmart AI Wedding Planner App + Human Planner Support  \n",
      "- **Agentic AI Features:**  \n",
      "   - **Automated Vendor Coordination:** AI schedules, negotiates, and manages vendor communications.  \n",
      "   - **Budget Tracking & Optimization:** AI monitors spending, flags potential overruns, and suggests cost-saving alternatives.  \n",
      "   - **Decision Support:** AI provides personalized recommendations for theme, décor, menu, and more based on couple preferences and trends.  \n",
      "   - **Timeline Management:** Intelligent reminders and task prioritization to keep planning on track.  \n",
      "   - **Real-time Problem Solving:** AI identifies conflicts or issues early and suggests solutions.  \n",
      "   - **Day-of Event Coordination:** AI-enabled system and optional human planner oversee logistics and handle last-minute adjustments.\n",
      "\n",
      "---\n",
      "\n",
      "## 5. Revenue Model  \n",
      "- **Subscription Plans:** Tiered monthly plans depending on the level of AI support and human planner access.  \n",
      "- **Vendor Commission:** Partnerships with vendors for commission on bookings through the platform.  \n",
      "- **Premium Services:** Custom design consults, destination wedding planning, and last-minute coordination add-ons.\n",
      "\n",
      "---\n",
      "\n",
      "## 6. Marketing Strategy  \n",
      "- Targeted social media campaigns showcasing stress-free AI-driven planning experience.  \n",
      "- Partnerships with wedding venues and vendors to promote the platform.  \n",
      "- Influencer collaborations to demonstrate real customer success stories.  \n",
      "- Content marketing on blogs and YouTube with AI planning tips and trends.\n",
      "\n",
      "---\n",
      "\n",
      "## 7. Operations Plan  \n",
      "- Develop and maintain the AI engine with continual learning capabilities.  \n",
      "- Employ wedding planning experts for human support and vendor relations.  \n",
      "- Customer service team for onboarding and assisting users.  \n",
      "- Secure partnerships with trusted vendors and venues.\n",
      "\n",
      "---\n",
      "\n",
      "## 8. Technology Requirements  \n",
      "- Agentic AI platform capable of natural language understanding, autonomous task execution, and multi-agent coordination.  \n",
      "- Cloud infrastructure to handle user data securely and provide real-time updates.  \n",
      "- Mobile app and web portal for user interaction.\n",
      "\n",
      "---\n",
      "\n",
      "## 9. Competitive Advantages  \n",
      "- Personalized, intelligent assistance reducing the need for multiple apps or human planners.  \n",
      "- Cost-effective and scalable solution accessible to a wider audience.  \n",
      "- Continuous assistance from engagement to day-of-event.\n",
      "\n",
      "---\n",
      "\n",
      "## 10. Financial Projections (Summary)  \n",
      "- Initial development and marketing investment recouped within 24 months.  \n",
      "- Projected user base growth of 30% year-over-year in the first 3 years.  \n",
      "- High gross margins due to SaaS subscription model and AI efficiency gains.\n",
      "\n",
      "---\n",
      "\n",
      "# Conclusion  \n",
      "By integrating Agentic AI into wedding planning, WedSmart addresses the traditional pain points such as coordination complexity, time constraints, budget worries, and decision overload. Our service empowers couples with intelligent support and convenience, turning wedding planning from a stressful chore into an enjoyable and memorable experience.\n",
      "\n",
      "---\n",
      "\n",
      "If you want, I can help you expand any particular section or provide a detailed feature roadmap for the AI system.\n"
     ]
    }
   ],
   "source": [
    "#business_idea = response.\n",
    "questionfollowup = \"Based on the content, create a simple business plan that incorporate Agentic AI to solve those painpoints.\"\n",
    "business_ideaprompt = [\n",
    "    {\"role\": \"assistant\", \"content\": response1},  # first response \n",
    "    {\"role\": \"user\",      \"content\": questionfollowup}\n",
    "]\n",
    "\n",
    "business_ideacreation = openai.chat.completions.create(\n",
    "    model=\"gpt-4.1-mini\",\n",
    "    messages=business_ideaprompt\n",
    ")\n",
    "\n",
    "# And repeat! In the next message, include the business idea within the message\n",
    "print(business_ideacreation.choices[0].message.content)\n"
   ]
  }
 ],
 "metadata": {
  "kernelspec": {
   "display_name": "Python 3",
   "language": "python",
   "name": "python3"
  },
  "language_info": {
   "codemirror_mode": {
    "name": "ipython",
    "version": 3
   },
   "file_extension": ".py",
   "mimetype": "text/x-python",
   "name": "python",
   "nbconvert_exporter": "python",
   "pygments_lexer": "ipython3",
   "version": "3.12.9"
  }
 },
 "nbformat": 4,
 "nbformat_minor": 2
}
